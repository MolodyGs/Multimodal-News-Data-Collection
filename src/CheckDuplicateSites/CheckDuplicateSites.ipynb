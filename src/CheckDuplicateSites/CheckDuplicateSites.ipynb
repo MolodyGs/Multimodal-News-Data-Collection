{
 "cells": [
  {
   "cell_type": "markdown",
   "metadata": {},
   "source": [
    "# Check if a site already exists in another file\n"
   ]
  },
  {
   "cell_type": "code",
   "execution_count": 15,
   "metadata": {},
   "outputs": [],
   "source": [
    "import json\n",
    "from colorama import Fore, Style"
   ]
  },
  {
   "cell_type": "code",
   "execution_count": 18,
   "metadata": {},
   "outputs": [
    {
     "name": "stdout",
     "output_type": "stream",
     "text": [
      "Longitud archivo 1: 20\n",
      "Longitud archivo 2: 22\n",
      "Proceso terminado\n"
     ]
    }
   ],
   "source": [
    "json_1_name = '1st_fast_check_pages.json'\n",
    "json_2_name = '2nd_fast_check_pages.json'\n",
    "\n",
    "json_1_path = '../fast_check_data/' + json_1_name\n",
    "json_2_path = '../fast_check_data/' + json_2_name\n",
    "\n",
    "json_1_pages = []\n",
    "json_2_pages = []\n",
    "\n",
    "with open(json_1_path, 'r', encoding='utf-8') as file:\n",
    "    json_1_pages = json.load(file)[\"pages\"]\n",
    "\n",
    "with open(json_2_path, 'r', encoding='utf-8') as file:\n",
    "    json_2_pages = json.load(file)[\"pages\"]\n",
    "\n",
    "print(f\"Longitud archivo 1: {len(json_1_pages)}\")\n",
    "print(f\"Longitud archivo 2: {len(json_2_pages)}\")\n",
    "\n",
    "\n",
    "for page in json_1_pages:\n",
    "    if page in json_2_pages:\n",
    "        print(\"Sitio repetido\")\n",
    "        print(page[\"title\"])\n",
    "        print()\n",
    "print(\"Proceso terminado\")\n"
   ]
  }
 ],
 "metadata": {
  "kernelspec": {
   "display_name": "Python 3",
   "language": "python",
   "name": "python3"
  },
  "language_info": {
   "codemirror_mode": {
    "name": "ipython",
    "version": 3
   },
   "file_extension": ".py",
   "mimetype": "text/x-python",
   "name": "python",
   "nbconvert_exporter": "python",
   "pygments_lexer": "ipython3",
   "version": "3.11.9"
  }
 },
 "nbformat": 4,
 "nbformat_minor": 2
}
