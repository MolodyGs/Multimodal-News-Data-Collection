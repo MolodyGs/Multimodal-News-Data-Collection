{
 "cells": [
  {
   "cell_type": "markdown",
   "metadata": {},
   "source": [
    "# Text Extract in Images\n",
    "\n",
    "## Imports\n"
   ]
  },
  {
   "cell_type": "code",
   "execution_count": null,
   "metadata": {},
   "outputs": [],
   "source": [
    "import requests\n",
    "from PIL import Image\n",
    "import pytesseract\n",
    "from io import BytesIO\n",
    "import json\n",
    "import time as TIME"
   ]
  },
  {
   "cell_type": "markdown",
   "metadata": {},
   "source": [
    "## Load data\n"
   ]
  },
  {
   "cell_type": "code",
   "execution_count": null,
   "metadata": {},
   "outputs": [],
   "source": [
    "pages_1st_process = []\n",
    "pages_2nd_process = []\n",
    "pages_fact_checking = []\n",
    "\n",
    "with open(\"./image_model/json_data_fast_check_1_fixed.json\", 'r', encoding='utf-8') as file:\n",
    "    pages_1st_process = json.load(file)  \n",
    "\n",
    "with open(\"./image_model/json_data_fast_check_2_fixed.json\", 'r', encoding='utf-8') as file:\n",
    "    pages_2nd_process = json.load(file)  \n",
    "\n",
    "with open(\"./image_model/json_data_fact_checking.json\", 'r', encoding='utf-8') as file:\n",
    "    pages_fact_checking = json.load(file)  "
   ]
  },
  {
   "cell_type": "markdown",
   "metadata": {},
   "source": [
    "## Text Extracting\n"
   ]
  },
  {
   "cell_type": "code",
   "execution_count": null,
   "metadata": {},
   "outputs": [],
   "source": [
    "def extract_text(image): \n",
    "    start = TIME.time()\n",
    "    text = pytesseract.image_to_string(image, lang='spa') \n",
    "    end = TIME.time()\n",
    "    return text, end - start\n",
    "\n",
    "def extract_text_from_pages(pages):\n",
    "    texts_in_images = {\"pages\": []}\n",
    "    for index, page in enumerate(pages):\n",
    "        texts_in_images[\"pages\"].append(page)\n",
    "        for img_index, image in enumerate(page[\"images\"]):\n",
    "            try: \n",
    "                response = None\n",
    "                img = None\n",
    "                try: \n",
    "                    response = requests.get(image)\n",
    "                    img = Image.open(BytesIO(response.content))\n",
    "                except: \n",
    "                    print(f\"[0.00 s] - [p: {index:02}][i: {img_index:02}] Ocurrio un error al obtener la imagen [{image}]\")\n",
    "                    continue\n",
    "                text, time = extract_text(img)\n",
    "                texts_in_images[\"pages\"][index][\"images\"][img_index] = {\"image\": image, \"text\": text, \"error\": False}\n",
    "                print(f\"[{time:.2f} s] - [p: {index:02}][i: {img_index:02}] Éxito [{len(text)} caracteres]\")\n",
    "            except Exception as e: \n",
    "                texts_in_images[\"pages\"][index][\"images\"][img_index] = {\"image\": image, \"text\": \"\", \"error\": True}\n",
    "                print(f\"[{time:.2f} s] - [p: {index:02}][i: {img_index:02}] Ocurrio un error al analizar la imagen [{e}]\")\n",
    "        page_text = texts_in_images[\"pages\"][index][\"text\"]\n",
    "        page_text = page_text + \" \".join([img[\"text\"] for img in texts_in_images[\"pages\"][index][\"images\"] if not img[\"error\"]])\n",
    "        texts_in_images[\"pages\"][index][\"text\"] = page_text\n",
    "    return texts_in_images"
   ]
  },
  {
   "cell_type": "code",
   "execution_count": null,
   "metadata": {},
   "outputs": [],
   "source": [
    "pages_1st_process = extract_text_from_pages(pages_1st_process[\"pages\"])\n",
    "pages_2nd_process = extract_text_from_pages(pages_2nd_process[\"pages\"])\n",
    "pages_fact_checking = extract_text_from_pages(pages_fact_checking[\"pages\"])"
   ]
  },
  {
   "cell_type": "markdown",
   "metadata": {},
   "source": [
    "# Statistics\n"
   ]
  },
  {
   "cell_type": "code",
   "execution_count": null,
   "metadata": {},
   "outputs": [],
   "source": [
    "pages = {\"pages\": []}\n",
    "pages[\"pages\"] = pages_1st_process[\"pages\"] + pages_2nd_process[\"pages\"] + pages_fact_checking[\"pages\"]\n",
    "\n",
    "sum = 0\n",
    "for page in pages[\"pages\"]:\n",
    "    sum += len(page[\"text\"])\n",
    "print(f\"Cantidad de Texto: {sum}\")\n",
    "\n",
    "sum = 0\n",
    "for page in pages[\"pages\"]:\n",
    "    for image in page[\"images\"]:\n",
    "        sum += len(image[\"text\"])\n",
    "print(f\"Texto adicional en imagenes: {sum}\")\n",
    "\n",
    "print(\"\")\n",
    "\n",
    "print(f\"Total de imagenes {len([image for page in pages['pages'] for image in page['images']])}\")\n",
    "print(f\"Imagenes con texto adicional: {len([image for page in pages['pages'] for image in page['images'] if len(image['text']) > 0])}\")"
   ]
  },
  {
   "cell_type": "markdown",
   "metadata": {},
   "source": [
    "# Save data\n"
   ]
  },
  {
   "cell_type": "code",
   "execution_count": null,
   "metadata": {},
   "outputs": [],
   "source": [
    "with open(f\"./image_model/json_data_fast_check_1_fixed.json\", 'w', encoding='utf-8') as file:\n",
    "    json.dump(pages_1st_process, file, ensure_ascii=False, indent=4)\n",
    "with open(f\"./image_model/json_data_fast_check_2_fixed.json\", 'w', encoding='utf-8') as file:\n",
    "    json.dump(pages_2nd_process, file, ensure_ascii=False, indent=4)\n",
    "with open(f\"./image_model/json_data_fact_checking.json\", 'w', encoding='utf-8') as file:\n",
    "    json.dump(pages_fact_checking, file, ensure_ascii=False, indent=4)"
   ]
  }
 ],
 "metadata": {
  "kernelspec": {
   "display_name": ".venv",
   "language": "python",
   "name": "python3"
  },
  "language_info": {
   "codemirror_mode": {
    "name": "ipython",
    "version": 3
   },
   "file_extension": ".py",
   "mimetype": "text/x-python",
   "name": "python",
   "nbconvert_exporter": "python",
   "pygments_lexer": "ipython3",
   "version": "3.11.9"
  }
 },
 "nbformat": 4,
 "nbformat_minor": 2
}
