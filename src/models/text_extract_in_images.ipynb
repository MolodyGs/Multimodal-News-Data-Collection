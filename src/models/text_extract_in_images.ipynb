{
 "cells": [
  {
   "cell_type": "markdown",
   "metadata": {},
   "source": [
    "# Text extract in images\n"
   ]
  },
  {
   "cell_type": "code",
   "execution_count": 25,
   "metadata": {},
   "outputs": [],
   "source": [
    "import requests\n",
    "from PIL import Image\n",
    "import pytesseract\n",
    "from io import BytesIO\n",
    "import json\n",
    "import time as TIME"
   ]
  },
  {
   "cell_type": "code",
   "execution_count": 26,
   "metadata": {},
   "outputs": [],
   "source": [
    "pages_1st_process = []\n",
    "pages_2nd_process = []\n",
    "pages_fact_checking = []\n",
    "\n",
    "with open(\"../fast_check_data/test_1st.json\", 'r', encoding='utf-8') as file:\n",
    "    pages_1st_process = json.load(file)  \n",
    "\n",
    "with open(\"../fast_check_data/test_2nd.json\", 'r', encoding='utf-8') as file:\n",
    "    pages_2nd_process = json.load(file)  \n",
    "\n",
    "with open(\"../fact_checking_data/fact_checking_data_extracted_141124.json\", 'r', encoding='utf-8') as file:\n",
    "    pages_fact_checking = json.load(file)  \n",
    "\n",
    "pages = pages_1st_process[\"pages\"] + pages_2nd_process[\"pages\"] + pages_fact_checking[\"pages\"]"
   ]
  },
  {
   "cell_type": "code",
   "execution_count": 27,
   "metadata": {},
   "outputs": [
    {
     "name": "stdout",
     "output_type": "stream",
     "text": [
      "[0.95 s] - [p: 00][i: 00] Éxito [191 caracteres]\n",
      "[0.82 s] - [p: 00][i: 01] Éxito [250 caracteres]\n",
      "[1.01 s] - [p: 00][i: 02] Éxito [1007 caracteres]\n",
      "[0.00 s] - [p: 01][i: 00] Ocurrio un error al obtener la imagen [https://scontent-scl2-1.xx.fbcdn.net/v/t39.30808-6/280608293_560759738739728_1001463741805250641_n.jpg?_nc_cat=106&ccb=1-6&_nc_sid=8bfeb9&_nc_ohc=8AQdEyEv8V8AX8AcRoB&_nc_ht=scontent-scl2-1.xx&oh=00_AT9kivLD5I_jJ6lfuGNqLrArHqmFwXHowPZ5cUmTcouSHg&oe=62807DB1]\n",
      "[1.04 s] - [p: 03][i: 00] Éxito [762 caracteres]\n",
      "[0.80 s] - [p: 03][i: 01] Éxito [642 caracteres]\n",
      "[0.43 s] - [p: 03][i: 02] Éxito [302 caracteres]\n",
      "[0.40 s] - [p: 04][i: 00] Éxito [66 caracteres]\n",
      "[0.91 s] - [p: 04][i: 01] Éxito [959 caracteres]\n",
      "[0.51 s] - [p: 05][i: 00] Éxito [211 caracteres]\n",
      "[0.24 s] - [p: 05][i: 01] Éxito [0 caracteres]\n"
     ]
    }
   ],
   "source": [
    "def extract_text(image): \n",
    "    start = TIME.time()\n",
    "    text = pytesseract.image_to_string(image, lang='spa') \n",
    "    end = TIME.time()\n",
    "    return text, end - start\n",
    "\n",
    "texts_in_images = {\"pages\": []}\n",
    "\n",
    "for index, page in enumerate(pages):\n",
    "    texts_in_images[\"pages\"].append(page)\n",
    "    for img_index, image in enumerate(page[\"images\"]):\n",
    "        try: \n",
    "            response = None\n",
    "            img = None\n",
    "            try: \n",
    "                response = requests.get(image)\n",
    "                img = Image.open(BytesIO(response.content))\n",
    "            except: \n",
    "                print(f\"[0.00 s] - [p: {index:02}][i: {img_index:02}] Ocurrio un error al obtener la imagen [{image}]\")\n",
    "                continue\n",
    "            text, time = extract_text(img)\n",
    "            texts_in_images[\"pages\"][index][\"images\"][img_index] = {\"image\": image, \"text\": text, \"error\": False}\n",
    "            print(f\"[{time:.2f} s] - [p: {index:02}][i: {img_index:02}] Éxito [{len(text)} caracteres]\")\n",
    "        except Exception as e: \n",
    "            texts_in_images[\"pages\"][index][\"images\"][img_index] = {\"image\": image, \"text\": \"\", \"error\": True}\n",
    "            print(f\"[{time:.2f} s] - [p: {index:02}][i: {img_index:02}] Ocurrio un error al analizar la imagen [{e}]\")\n",
    "    if index == 5:\n",
    "        break"
   ]
  },
  {
   "cell_type": "markdown",
   "metadata": {},
   "source": [
    "# Statistics\n"
   ]
  },
  {
   "cell_type": "code",
   "execution_count": null,
   "metadata": {},
   "outputs": [
    {
     "name": "stdout",
     "output_type": "stream",
     "text": [
      "Cantidad de Texto: 1129366\n",
      "Texto adicional en imagenes: 58686\n",
      "\n",
      "Total de imagenes 349\n",
      "Imagenes con texto adicional: 244\n"
     ]
    }
   ],
   "source": [
    "sum = 0\n",
    "for page in texts_in_images[\"pages\"]:\n",
    "    sum += len(page[\"text\"])\n",
    "print(f\"Cantidad de Texto: {sum}\")\n",
    "\n",
    "sum = 0\n",
    "for page in texts_in_images[\"pages\"]:\n",
    "    for image in page[\"images\"]:\n",
    "        sum += len(image[\"text\"])\n",
    "print(f\"Texto adicional en imagenes: {sum}\")\n",
    "\n",
    "print(\"\")\n",
    "\n",
    "print(f\"Total de imagenes {len([image for page in texts_in_images['pages'] for image in page['images']])}\")\n",
    "print(f\"Imagenes con texto adicional: {len([image for page in texts_in_images['pages'] for image in page['images'] if len(image['text']) > 0])}\")"
   ]
  },
  {
   "cell_type": "code",
   "execution_count": 23,
   "metadata": {},
   "outputs": [],
   "source": [
    "with open(f\"text_extract_in_images.json\", 'w', encoding='utf-8') as file:\n",
    "    json.dump(texts_in_images, file, ensure_ascii=False, indent=4)"
   ]
  }
 ],
 "metadata": {
  "kernelspec": {
   "display_name": ".venv",
   "language": "python",
   "name": "python3"
  },
  "language_info": {
   "codemirror_mode": {
    "name": "ipython",
    "version": 3
   },
   "file_extension": ".py",
   "mimetype": "text/x-python",
   "name": "python",
   "nbconvert_exporter": "python",
   "pygments_lexer": "ipython3",
   "version": "3.11.9"
  }
 },
 "nbformat": 4,
 "nbformat_minor": 2
}
