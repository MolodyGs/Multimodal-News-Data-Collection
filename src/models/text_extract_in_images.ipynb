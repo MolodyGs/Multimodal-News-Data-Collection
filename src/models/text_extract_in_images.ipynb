{
 "cells": [
  {
   "cell_type": "code",
   "execution_count": 1,
   "metadata": {},
   "outputs": [],
   "source": [
    "import requests\n",
    "from PIL import Image\n",
    "import pytesseract\n",
    "from io import BytesIO"
   ]
  },
  {
   "cell_type": "code",
   "execution_count": 5,
   "metadata": {},
   "outputs": [
    {
     "name": "stdout",
     "output_type": "stream",
     "text": [
      "Texto extraído:\n",
      "TRAMITACIONES\n",
      "\n",
      "Los proyectos de ley no tienen una fecha límite\n",
      "para ser tramitadas. Pero, el Presidente de la\n",
      "República, tiene la facultad de ponerle distintos\n",
      "tipos de urgencia a las tramitaciones en el\n",
      "Congreso, es decir, tiempos de discusión.\n",
      "\n",
      "SIMPLE URGENCIA\n",
      "\n",
      "Proyecto debe ser conocido y despachado\n",
      "por la Cámara en los siguientes 30 días.\n",
      "\n",
      "Proyecto debe ser conocido y despachado\n",
      "por la Cámara en los siguientes 15 días.\n",
      "\n",
      "DISCUSIÓN INMEDIATA\n",
      "\n",
      "Proyecto debe ser conocido y despachado\n",
      "por la Cámara en los siguientes seis días.\n",
      "\n",
      "FUENTE: BIBLIOTECA DEL CONGRESO NACION\n",
      "\n"
     ]
    }
   ],
   "source": [
    "# Abre la imagen\n",
    "url = 'https://i2.wp.com/factchecking.cl/wp-content/uploads/2020/06/tipos-de-urgencia-proceso-legislativo.jpg?resize=800%2C2000&ssl=1'\n",
    "\n",
    "# Descargar la imagen desde la URL\n",
    "response = requests.get(url)\n",
    "imagen = Image.open(BytesIO(response.content))\n",
    "\n",
    "# Extrae el texto\n",
    "texto = pytesseract.image_to_string(imagen, lang='spa')  # 'eng' para inglés, usa 'spa' para español\n",
    "print(\"Texto extraído:\")\n",
    "print(texto)"
   ]
  }
 ],
 "metadata": {
  "kernelspec": {
   "display_name": ".venv",
   "language": "python",
   "name": "python3"
  },
  "language_info": {
   "codemirror_mode": {
    "name": "ipython",
    "version": 3
   },
   "file_extension": ".py",
   "mimetype": "text/x-python",
   "name": "python",
   "nbconvert_exporter": "python",
   "pygments_lexer": "ipython3",
   "version": "3.11.9"
  }
 },
 "nbformat": 4,
 "nbformat_minor": 2
}
