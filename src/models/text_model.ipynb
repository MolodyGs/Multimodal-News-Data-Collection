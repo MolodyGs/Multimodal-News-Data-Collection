{
 "cells": [
  {
   "cell_type": "markdown",
   "metadata": {},
   "source": [
    "# Numeric Representation of Text\n"
   ]
  },
  {
   "cell_type": "markdown",
   "metadata": {},
   "source": [
    "## Imports\n"
   ]
  },
  {
   "cell_type": "code",
   "execution_count": 3,
   "metadata": {},
   "outputs": [],
   "source": [
    "from transformers import BertTokenizer, BertModel\n",
    "import torch\n",
    "from sklearn.decomposition import PCA\n",
    "import numpy as np\n",
    "import plotly.graph_objects as go\n",
    "import pandas as pd\n",
    "import torch\n",
    "from sklearn.manifold import TSNE\n",
    "import plotly.express as px\n",
    "import json\n",
    "import umap"
   ]
  },
  {
   "cell_type": "markdown",
   "metadata": {},
   "source": [
    "## 1. Test with 5 data\n"
   ]
  },
  {
   "cell_type": "code",
   "execution_count": 4,
   "metadata": {},
   "outputs": [
    {
     "name": "stderr",
     "output_type": "stream",
     "text": [
      "Some weights of BertModel were not initialized from the model checkpoint at dccuchile/bert-base-spanish-wwm-uncased and are newly initialized: ['bert.pooler.dense.bias', 'bert.pooler.dense.weight']\n",
      "You should probably TRAIN this model on a down-stream task to be able to use it for predictions and inference.\n"
     ]
    },
    {
     "data": {
      "application/vnd.plotly.v1+json": {
       "config": {
        "plotlyServerURL": "https://plot.ly"
       },
       "data": [
        {
         "marker": {
          "size": 5
         },
         "mode": "markers+text",
         "text": [
          "Text 1: 1"
         ],
         "textposition": "top center",
         "type": "scatter3d",
         "x": [
          -0.25058412551879883
         ],
         "y": [
          7.084342956542969
         ],
         "z": [
          1.595733404159546
         ]
        },
        {
         "marker": {
          "size": 5
         },
         "mode": "markers+text",
         "text": [
          "Text 2: 2"
         ],
         "textposition": "top center",
         "type": "scatter3d",
         "x": [
          -2.900036573410034
         ],
         "y": [
          -3.3434081077575684
         ],
         "z": [
          3.5854384899139404
         ]
        },
        {
         "marker": {
          "size": 5
         },
         "mode": "markers+text",
         "text": [
          "Text 3: 3"
         ],
         "textposition": "top center",
         "type": "scatter3d",
         "x": [
          2.4356937408447266
         ],
         "y": [
          -0.6105595827102661
         ],
         "z": [
          -5.618882179260254
         ]
        },
        {
         "marker": {
          "size": 5
         },
         "mode": "markers+text",
         "text": [
          "Text 4: 4"
         ],
         "textposition": "top center",
         "type": "scatter3d",
         "x": [
          5.955684661865234
         ],
         "y": [
          -2.0398595333099365
         ],
         "z": [
          2.391615867614746
         ]
        },
        {
         "marker": {
          "size": 5
         },
         "mode": "markers+text",
         "text": [
          "Text 5: 5"
         ],
         "textposition": "top center",
         "type": "scatter3d",
         "x": [
          -5.240757942199707
         ],
         "y": [
          -1.0905134677886963
         ],
         "z": [
          -1.9539031982421875
         ]
        }
       ],
       "layout": {
        "scene": {
         "xaxis": {
          "title": {
           "text": "PC1"
          }
         },
         "yaxis": {
          "title": {
           "text": "PC2"
          }
         },
         "zaxis": {
          "title": {
           "text": "PC3"
          }
         }
        },
        "template": {
         "data": {
          "bar": [
           {
            "error_x": {
             "color": "#2a3f5f"
            },
            "error_y": {
             "color": "#2a3f5f"
            },
            "marker": {
             "line": {
              "color": "#E5ECF6",
              "width": 0.5
             },
             "pattern": {
              "fillmode": "overlay",
              "size": 10,
              "solidity": 0.2
             }
            },
            "type": "bar"
           }
          ],
          "barpolar": [
           {
            "marker": {
             "line": {
              "color": "#E5ECF6",
              "width": 0.5
             },
             "pattern": {
              "fillmode": "overlay",
              "size": 10,
              "solidity": 0.2
             }
            },
            "type": "barpolar"
           }
          ],
          "carpet": [
           {
            "aaxis": {
             "endlinecolor": "#2a3f5f",
             "gridcolor": "white",
             "linecolor": "white",
             "minorgridcolor": "white",
             "startlinecolor": "#2a3f5f"
            },
            "baxis": {
             "endlinecolor": "#2a3f5f",
             "gridcolor": "white",
             "linecolor": "white",
             "minorgridcolor": "white",
             "startlinecolor": "#2a3f5f"
            },
            "type": "carpet"
           }
          ],
          "choropleth": [
           {
            "colorbar": {
             "outlinewidth": 0,
             "ticks": ""
            },
            "type": "choropleth"
           }
          ],
          "contour": [
           {
            "colorbar": {
             "outlinewidth": 0,
             "ticks": ""
            },
            "colorscale": [
             [
              0,
              "#0d0887"
             ],
             [
              0.1111111111111111,
              "#46039f"
             ],
             [
              0.2222222222222222,
              "#7201a8"
             ],
             [
              0.3333333333333333,
              "#9c179e"
             ],
             [
              0.4444444444444444,
              "#bd3786"
             ],
             [
              0.5555555555555556,
              "#d8576b"
             ],
             [
              0.6666666666666666,
              "#ed7953"
             ],
             [
              0.7777777777777778,
              "#fb9f3a"
             ],
             [
              0.8888888888888888,
              "#fdca26"
             ],
             [
              1,
              "#f0f921"
             ]
            ],
            "type": "contour"
           }
          ],
          "contourcarpet": [
           {
            "colorbar": {
             "outlinewidth": 0,
             "ticks": ""
            },
            "type": "contourcarpet"
           }
          ],
          "heatmap": [
           {
            "colorbar": {
             "outlinewidth": 0,
             "ticks": ""
            },
            "colorscale": [
             [
              0,
              "#0d0887"
             ],
             [
              0.1111111111111111,
              "#46039f"
             ],
             [
              0.2222222222222222,
              "#7201a8"
             ],
             [
              0.3333333333333333,
              "#9c179e"
             ],
             [
              0.4444444444444444,
              "#bd3786"
             ],
             [
              0.5555555555555556,
              "#d8576b"
             ],
             [
              0.6666666666666666,
              "#ed7953"
             ],
             [
              0.7777777777777778,
              "#fb9f3a"
             ],
             [
              0.8888888888888888,
              "#fdca26"
             ],
             [
              1,
              "#f0f921"
             ]
            ],
            "type": "heatmap"
           }
          ],
          "heatmapgl": [
           {
            "colorbar": {
             "outlinewidth": 0,
             "ticks": ""
            },
            "colorscale": [
             [
              0,
              "#0d0887"
             ],
             [
              0.1111111111111111,
              "#46039f"
             ],
             [
              0.2222222222222222,
              "#7201a8"
             ],
             [
              0.3333333333333333,
              "#9c179e"
             ],
             [
              0.4444444444444444,
              "#bd3786"
             ],
             [
              0.5555555555555556,
              "#d8576b"
             ],
             [
              0.6666666666666666,
              "#ed7953"
             ],
             [
              0.7777777777777778,
              "#fb9f3a"
             ],
             [
              0.8888888888888888,
              "#fdca26"
             ],
             [
              1,
              "#f0f921"
             ]
            ],
            "type": "heatmapgl"
           }
          ],
          "histogram": [
           {
            "marker": {
             "pattern": {
              "fillmode": "overlay",
              "size": 10,
              "solidity": 0.2
             }
            },
            "type": "histogram"
           }
          ],
          "histogram2d": [
           {
            "colorbar": {
             "outlinewidth": 0,
             "ticks": ""
            },
            "colorscale": [
             [
              0,
              "#0d0887"
             ],
             [
              0.1111111111111111,
              "#46039f"
             ],
             [
              0.2222222222222222,
              "#7201a8"
             ],
             [
              0.3333333333333333,
              "#9c179e"
             ],
             [
              0.4444444444444444,
              "#bd3786"
             ],
             [
              0.5555555555555556,
              "#d8576b"
             ],
             [
              0.6666666666666666,
              "#ed7953"
             ],
             [
              0.7777777777777778,
              "#fb9f3a"
             ],
             [
              0.8888888888888888,
              "#fdca26"
             ],
             [
              1,
              "#f0f921"
             ]
            ],
            "type": "histogram2d"
           }
          ],
          "histogram2dcontour": [
           {
            "colorbar": {
             "outlinewidth": 0,
             "ticks": ""
            },
            "colorscale": [
             [
              0,
              "#0d0887"
             ],
             [
              0.1111111111111111,
              "#46039f"
             ],
             [
              0.2222222222222222,
              "#7201a8"
             ],
             [
              0.3333333333333333,
              "#9c179e"
             ],
             [
              0.4444444444444444,
              "#bd3786"
             ],
             [
              0.5555555555555556,
              "#d8576b"
             ],
             [
              0.6666666666666666,
              "#ed7953"
             ],
             [
              0.7777777777777778,
              "#fb9f3a"
             ],
             [
              0.8888888888888888,
              "#fdca26"
             ],
             [
              1,
              "#f0f921"
             ]
            ],
            "type": "histogram2dcontour"
           }
          ],
          "mesh3d": [
           {
            "colorbar": {
             "outlinewidth": 0,
             "ticks": ""
            },
            "type": "mesh3d"
           }
          ],
          "parcoords": [
           {
            "line": {
             "colorbar": {
              "outlinewidth": 0,
              "ticks": ""
             }
            },
            "type": "parcoords"
           }
          ],
          "pie": [
           {
            "automargin": true,
            "type": "pie"
           }
          ],
          "scatter": [
           {
            "fillpattern": {
             "fillmode": "overlay",
             "size": 10,
             "solidity": 0.2
            },
            "type": "scatter"
           }
          ],
          "scatter3d": [
           {
            "line": {
             "colorbar": {
              "outlinewidth": 0,
              "ticks": ""
             }
            },
            "marker": {
             "colorbar": {
              "outlinewidth": 0,
              "ticks": ""
             }
            },
            "type": "scatter3d"
           }
          ],
          "scattercarpet": [
           {
            "marker": {
             "colorbar": {
              "outlinewidth": 0,
              "ticks": ""
             }
            },
            "type": "scattercarpet"
           }
          ],
          "scattergeo": [
           {
            "marker": {
             "colorbar": {
              "outlinewidth": 0,
              "ticks": ""
             }
            },
            "type": "scattergeo"
           }
          ],
          "scattergl": [
           {
            "marker": {
             "colorbar": {
              "outlinewidth": 0,
              "ticks": ""
             }
            },
            "type": "scattergl"
           }
          ],
          "scattermapbox": [
           {
            "marker": {
             "colorbar": {
              "outlinewidth": 0,
              "ticks": ""
             }
            },
            "type": "scattermapbox"
           }
          ],
          "scatterpolar": [
           {
            "marker": {
             "colorbar": {
              "outlinewidth": 0,
              "ticks": ""
             }
            },
            "type": "scatterpolar"
           }
          ],
          "scatterpolargl": [
           {
            "marker": {
             "colorbar": {
              "outlinewidth": 0,
              "ticks": ""
             }
            },
            "type": "scatterpolargl"
           }
          ],
          "scatterternary": [
           {
            "marker": {
             "colorbar": {
              "outlinewidth": 0,
              "ticks": ""
             }
            },
            "type": "scatterternary"
           }
          ],
          "surface": [
           {
            "colorbar": {
             "outlinewidth": 0,
             "ticks": ""
            },
            "colorscale": [
             [
              0,
              "#0d0887"
             ],
             [
              0.1111111111111111,
              "#46039f"
             ],
             [
              0.2222222222222222,
              "#7201a8"
             ],
             [
              0.3333333333333333,
              "#9c179e"
             ],
             [
              0.4444444444444444,
              "#bd3786"
             ],
             [
              0.5555555555555556,
              "#d8576b"
             ],
             [
              0.6666666666666666,
              "#ed7953"
             ],
             [
              0.7777777777777778,
              "#fb9f3a"
             ],
             [
              0.8888888888888888,
              "#fdca26"
             ],
             [
              1,
              "#f0f921"
             ]
            ],
            "type": "surface"
           }
          ],
          "table": [
           {
            "cells": {
             "fill": {
              "color": "#EBF0F8"
             },
             "line": {
              "color": "white"
             }
            },
            "header": {
             "fill": {
              "color": "#C8D4E3"
             },
             "line": {
              "color": "white"
             }
            },
            "type": "table"
           }
          ]
         },
         "layout": {
          "annotationdefaults": {
           "arrowcolor": "#2a3f5f",
           "arrowhead": 0,
           "arrowwidth": 1
          },
          "autotypenumbers": "strict",
          "coloraxis": {
           "colorbar": {
            "outlinewidth": 0,
            "ticks": ""
           }
          },
          "colorscale": {
           "diverging": [
            [
             0,
             "#8e0152"
            ],
            [
             0.1,
             "#c51b7d"
            ],
            [
             0.2,
             "#de77ae"
            ],
            [
             0.3,
             "#f1b6da"
            ],
            [
             0.4,
             "#fde0ef"
            ],
            [
             0.5,
             "#f7f7f7"
            ],
            [
             0.6,
             "#e6f5d0"
            ],
            [
             0.7,
             "#b8e186"
            ],
            [
             0.8,
             "#7fbc41"
            ],
            [
             0.9,
             "#4d9221"
            ],
            [
             1,
             "#276419"
            ]
           ],
           "sequential": [
            [
             0,
             "#0d0887"
            ],
            [
             0.1111111111111111,
             "#46039f"
            ],
            [
             0.2222222222222222,
             "#7201a8"
            ],
            [
             0.3333333333333333,
             "#9c179e"
            ],
            [
             0.4444444444444444,
             "#bd3786"
            ],
            [
             0.5555555555555556,
             "#d8576b"
            ],
            [
             0.6666666666666666,
             "#ed7953"
            ],
            [
             0.7777777777777778,
             "#fb9f3a"
            ],
            [
             0.8888888888888888,
             "#fdca26"
            ],
            [
             1,
             "#f0f921"
            ]
           ],
           "sequentialminus": [
            [
             0,
             "#0d0887"
            ],
            [
             0.1111111111111111,
             "#46039f"
            ],
            [
             0.2222222222222222,
             "#7201a8"
            ],
            [
             0.3333333333333333,
             "#9c179e"
            ],
            [
             0.4444444444444444,
             "#bd3786"
            ],
            [
             0.5555555555555556,
             "#d8576b"
            ],
            [
             0.6666666666666666,
             "#ed7953"
            ],
            [
             0.7777777777777778,
             "#fb9f3a"
            ],
            [
             0.8888888888888888,
             "#fdca26"
            ],
            [
             1,
             "#f0f921"
            ]
           ]
          },
          "colorway": [
           "#636efa",
           "#EF553B",
           "#00cc96",
           "#ab63fa",
           "#FFA15A",
           "#19d3f3",
           "#FF6692",
           "#B6E880",
           "#FF97FF",
           "#FECB52"
          ],
          "font": {
           "color": "#2a3f5f"
          },
          "geo": {
           "bgcolor": "white",
           "lakecolor": "white",
           "landcolor": "#E5ECF6",
           "showlakes": true,
           "showland": true,
           "subunitcolor": "white"
          },
          "hoverlabel": {
           "align": "left"
          },
          "hovermode": "closest",
          "mapbox": {
           "style": "light"
          },
          "paper_bgcolor": "white",
          "plot_bgcolor": "#E5ECF6",
          "polar": {
           "angularaxis": {
            "gridcolor": "white",
            "linecolor": "white",
            "ticks": ""
           },
           "bgcolor": "#E5ECF6",
           "radialaxis": {
            "gridcolor": "white",
            "linecolor": "white",
            "ticks": ""
           }
          },
          "scene": {
           "xaxis": {
            "backgroundcolor": "#E5ECF6",
            "gridcolor": "white",
            "gridwidth": 2,
            "linecolor": "white",
            "showbackground": true,
            "ticks": "",
            "zerolinecolor": "white"
           },
           "yaxis": {
            "backgroundcolor": "#E5ECF6",
            "gridcolor": "white",
            "gridwidth": 2,
            "linecolor": "white",
            "showbackground": true,
            "ticks": "",
            "zerolinecolor": "white"
           },
           "zaxis": {
            "backgroundcolor": "#E5ECF6",
            "gridcolor": "white",
            "gridwidth": 2,
            "linecolor": "white",
            "showbackground": true,
            "ticks": "",
            "zerolinecolor": "white"
           }
          },
          "shapedefaults": {
           "line": {
            "color": "#2a3f5f"
           }
          },
          "ternary": {
           "aaxis": {
            "gridcolor": "white",
            "linecolor": "white",
            "ticks": ""
           },
           "baxis": {
            "gridcolor": "white",
            "linecolor": "white",
            "ticks": ""
           },
           "bgcolor": "#E5ECF6",
           "caxis": {
            "gridcolor": "white",
            "linecolor": "white",
            "ticks": ""
           }
          },
          "title": {
           "x": 0.05
          },
          "xaxis": {
           "automargin": true,
           "gridcolor": "white",
           "linecolor": "white",
           "ticks": "",
           "title": {
            "standoff": 15
           },
           "zerolinecolor": "white",
           "zerolinewidth": 2
          },
          "yaxis": {
           "automargin": true,
           "gridcolor": "white",
           "linecolor": "white",
           "ticks": "",
           "title": {
            "standoff": 15
           },
           "zerolinecolor": "white",
           "zerolinewidth": 2
          }
         }
        },
        "title": {
         "text": "Visualización de Textos en 3D con BERT - Prueba con 5 datos"
        }
       }
      }
     },
     "metadata": {},
     "output_type": "display_data"
    }
   ],
   "source": [
    "# Configuración del modelo y tokenizer BERT\n",
    "model_name = \"dccuchile/bert-base-spanish-wwm-uncased\"\n",
    "tokenizer = BertTokenizer.from_pretrained(model_name)\n",
    "model = BertModel.from_pretrained(model_name)\n",
    "\n",
    "# Función para obtener el embedding de un texto\n",
    "def embed_text(text):\n",
    "    inputs = tokenizer(text, return_tensors=\"pt\", truncation=True, max_length=512)\n",
    "    outputs = model(**inputs)\n",
    "    # Usamos el embedding del token [CLS]\n",
    "    cls_embedding = outputs.last_hidden_state[0, 0, :].detach().numpy()\n",
    "    return cls_embedding\n",
    "\n",
    "# Lista de textos de ejemplo - 5 datos\n",
    "texts = [\n",
    "    \"El 9 de septiembre pasado, con cinco votos a favor, ninguno en contra y siete abstenciones, la Comisión de Principios y Derechos Civiles y Políticos del Consejo Constitucional rechazó la Iniciativa Popular de Norma N.º 9.247: “Niños, Niñas y Adolescentes en la Nueva Constitución”. \\nTras esto Fernando Viveros, uno de los exconsejeros que votó a favor, dio a entender que con este resultado los derechos de niños, niñas y adolescentes (NNA) quedaron fuera del borrador del nuevo texto constitucional. A través de fuentes expertas y la revisión de los artículos de la propuesta de nueva Constitución, el Equipo de FactChecking.cl determinó que la afirmación es falsa. \\nDicha Iniciativa Popular de Norma, que alcanzó a reunir un total de 11.159 firmas, pretendía incluir en la propuesta de nueva Constitución lo siguiente:  \\n«La Constitución reconoce y asegura los derechos de los niños, niñas y adolescentes. El Estado promoverrá la protección integral de la niñez adoptando, sin discriminación, medidas para resguardar su supervivencia y desarrollo».\\nSin embargo, en la propuesta del texto constitucional que será llevada a plebiscito, dice en el artículo 12: «La Constitución reconoce y asegura el interés superior de los niños, el cual incluye las condiciones para crecer y desarrollarse en su familia. Se entiende por niño todo ser humano menor de dieciocho años de edad». \\nLos derechos de NNA siguen presentes \\nReferente a la afirmación hecha por Viveros, Álvaro Paúl, director de la Revista Chilena de Derecho, aseguró: “Decir que los derechos de los niños quedaron fuera de la Constitución no es cierto. El solo hecho de que no se haya aprobado una norma que se refería explícitamente a ‘los derechos de los niños niñas y adolescentes’ no basta para afirmar lo anterior”. \\nPaúl agregó que en el capítulo II (Art. 16) del texto propuesto se garantizan los derechos a todas las personas, incluyendo a NNA. Lo que significa que sus derechos están resguardados al igual que los de todos los demás. \\nPor su parte Alberto Vergara, Master of Law de la Universidad Northwestern, quien imparte el curso “Derechos Fundamentales y Derechos Humanos” en la Pontificia Universidad Católica de Chile hace referencia al artículo 3 de la propuesta constitucional para afirmar que lo publicado por Viveros no es efectivo.  \\nDicho artículo dice lo siguiente: \\n«Las normas de derecho interno deberán interpretarse de forma compatible con la Constitución, y considerando las disposiciones referidas a derechos y libertades de los tratados de derechos humanos ratificados por Chile y que se encuentran vigentes. Se distinguirán las disposiciones de dichos tratados a otros instrumentos internacionales que puedan asistir a los Estados en su comprensión y aplicación, pero que no tienen carácter jurídicamente vinculante».  \\nSobre las normas de derecho interno a las que se refiere el artículo, Vergara señala que estas “deberán interpretarse considerando las disposiciones de los tratados de derechos humanos ratificados por Chile y que se encuentren vigentes, y entre dichos tratados, se encuentran tanto la Convención de las Naciones Unidas sobre los Derechos del Niño, como varios de sus Protocolos Facultativos y Enmiendas, que han sido suscritos y ratificados por Chile”. Nuestro país ratificó dicho tratado en 1990, a través de un Decreto Aprobatorio el 27 de septiembre de ese año. \\nTeniendo en cuenta lo desarrollado con anterioridad al consultar fuentes documentales y expertas, el Equipo de FactChecking.cl determinó que la afirmación es “falsa”. A pesar de que la propuesta de nueva Constitución no haga referencia explicita a NNA, no significa que sus derechos han sido excluidos tras el rechazo de la Iniciativa Popular de Norma N.º 9.247. \\n\\nRelacionado\",\n",
    "    \"El 25 de noviembre de 2023, durante la franja oficial del Consejo Nacional de Televisión (CNTV), específicamente en la opción a favor de la nueva Carta Magna, la concejala de Renca y vicepresidenta del Partido Demócratas, Camila Avilés, habló sobre el sistema de salud en la nueva propuesta constitucional. La autoridad comunal aseguró que la propuesta de nueva constitución establecerá un sistema único de salud que no discrimine.  \\nLa concejala Avilés, especificó al Equipo de FactChecking.cl que “el sistema de salud discrimina por género, preexistencias y también por edad, sobre todo a las mujeres, porque a ellas se les cobra más por ser mujeres en edad fértil. Hoy día podría tener rango constitucional, el tener que crear un sistema universal de salud que permita que todos y todas puedan acceder, y con eso cubrir los costos en salud sin ningún tipo de diferencia entre personas”. \\nEl Equipo de FactChecking.cl revisó la nueva propuesta constitucional, y consultó a expertos del área de la salud concluyendo que la afirmación dicha por la concejala es verdadera. \\nEl sistema de salud universal está en la propuesta de Constitución \\nDe acuerdo al texto aprobado por el Consejo Constitucional, se dice explícitamente en el artículo 16, inciso 22, letra c, que “la ley establecerá un plan de salud universal”. Por lo tanto, el documento asegura textualmente los dichos de Avilés. \\nEn la actualidad existe un proyecto de plan universal de salud, que es un fondo compensatorio de carácter público y solo aplica para el Fondo Nacional de Salud (Fonasa), a diferencia de la nueva propuesta constitucional, que incluye tanto a esta como a Instituciones de Salud Previsional (Isapre).  \\nEl proyecto se encuentra en su primer trámite constitucional en el Senado y, según el Ministerio de Salud (Minsal), “esta iniciativa garantizará el acceso a la atención oportuna, de calidad y con protección financiera, permitirá que todas las personas tengan el mismo plan de salud (…) sin discriminar por edad, género, nivel de ingreso o condición de salud. Además, se establecen tiempos máximos de atención para cirugías y consultas médicas de especialidad de enfermedades No AUGE”.  \\nPara hacer un análisis del tema, el Equipo de FactChecking.cl se contactó con el abogado constitucionalista de la Universidad de Chile, Andrés Sepúlveda, quien aseguró, que al implementar un plan de salud universal “es básicamente lo mismo que tenemos ahora, solamente que hay muchas normas de rango legal que han sido subidas a materia constitucional, pero no hay un compromiso del Estado en la generación de más recursos para asegurar la salud”. \\nLa idea anterior no es compartida por la abogada y jefa del Departamento Jurídico en Servicio de Salud Pública Atacama, María Teresa Hola, quien mencionó que este plan robustece el derecho a la salud y vuelve más equitativo al sistema, lo que tiene como consecuencia la eliminación de diferencias que muchas veces resultan arbitrarias. \\n“En cuanto a la creación de un plan de salud universal, sin duda genera un impacto positivo en la persona, por cuanto es una garantía constitucional transversal que obliga tanto al Estado como a instituciones privadas a no ejercer discriminación o condicionar las prestaciones a una preexistencia”, afirmó Hola. \\nSe garantizaría la no discriminación, pero falta claridad en el funcionamiento del sistema \\nEn sus declaraciones, Camila Avilés aseguró que existirá no existiría discriminación en este sistema. Frente a esta parte de la afirmación, el Equipo de FactChecking.cl revisó la nueva propuesta constitucional de la fecha, donde en el artículo 16, inciso 22, letra c, se explica que se “establecerá un plan de salud universal, sin discriminación por edad, sexo o preexistencia médica, el cual será ofrecido por instituciones estatales y privadas”. \\nPor lo tanto, según el texto, se nombra explícitamente que el plan universal de salud no discriminará por las preexistencias médicas, la edad y el sexo. Sin embargo, más allá de la discriminación, esto tiene implicancias en lo que respecta al funcionamiento de las instituciones públicas y privadas.  \\nEn esta línea, el doctor en Salud Pública y docente de la Universidad de Chile, Marcos Vergara, sostuvo en una conversación con el Equipo de FactChecking.cl que en relación a la discriminación, él opina que efectivamente existe una segmentación tarifaria debido a enfermedades preexistentes, mujeres en edad fértil y personas de edad avanzada, ya que esto implica un mayor costo para las aseguradoras. Por lo que los cobros son mayores e implican riesgos de pérdida de dinero para las empresas.  \\n“La edad y el género son usados habitualmente para predecir el riesgo por las compañías de seguros de salud. Después están las preexistencias, que son enfermedades que ya existen. Luego ya cabría escarbar en antecedentes clínicos, de los cuales saben las compañías producto de programas médicos y reembolsos. Pero el tema está clausurado con la garantía de acceso universal a un seguro de salud donde las compañías no puedan tarificar por riesgo y quedarían invalidadas en la propuesta de nueva Constitución”, declaró Vergara.  \\nAsimismo, el docente afirmó que al implementar un plan de salud universal sin discriminación en la propuesta constitucional, tendría que incluirse la Modalidad de Atención Institucional (MAI) de la red pública, que según la Superintendencia de Salud es donde “las prestaciones médicas se otorgarán a los beneficiarios por los organismos que integran el Sistema Nacional de Servicios de Salud, sean dependientes del Minsal o entidades públicas o privadas con las cuales los Servicios de Salud o el Fondo hayan celebrado convenios para estos efectos”. Sin embargo, esto no se asegura de manera explícita en la propuesta de Carta Magna que se votará el 17 de diciembre.  \\nPor su parte, y en la misma línea que el doctor Vergara, el director del Instituto de Salud Pública de la Universidad Andrés Bello (UNAB) y ex superintendente de Isapre, Héctor Sánchez, declaró que al tener un sistema de salud universal que no discrimina por edad, preexistencias y género, no es sinónimo de una mejora en el sistema público. La existencia de este proyecto no garantiza un progreso en la calidad del servicio.  \\n “Estas dimensiones dependen de factores estructurales, de la organización de sus modelos de atención y producción, de la eficiencia y de los incentivos que existan para mejorar la calidad y productividad. Por lo tanto, si el país junto a la nueva Constitución no avanza en reformas estructurales del sistema público, la calidad de este y su productividad para reducir las listas de espera no se resolverán”, aclaró Sánchez. \\n Tras la investigación realizada por el Equipo de FactChecking.cl, se concluye que la afirmación de la concejala Camila Avilés sobre el sistema de salud es verdadera, ya que la revisión del documento de la propuesta constitucional expresa explícitamente que existirá un seguro universal de salud que no discrimina por preexistencia, edad ni género. Sin embargo, según los expertos y expertas consultados, esto no significa, por si mismo, una mejora en los sistemas de atención de salud.  \\n\\nRelacionado\",\n",
    "    \"En redes sociales se pueden detectar diferentes afirmaciones las cuales esbozan que, de aprobarse el proyecto de nueva Constitución el próximo 17 de diciembre, muchas leyes del Estado chileno quedarían sin efecto. Asimismo, usuarios de internet, aseguran que otras tendrían que ser redefinidas, ajustadas y/o reemplazadas.  \\nJoaquín Scheel, usuario de Facebook que suele comentar sobre política y de tendencia de derecha, aseguró a través de su perfil de Facebook el 10 de octubre de 2023 que – sobre el proyecto de nueva Constitución- “cerca de 24.000 leyes actuales quedan caducas y obliga a redefinir nuevas leyes”. Esta frase es falsa, ya que los datos dichos por el usuario no se condicen con la realidad y las consecuencias, según documentos oficiales y el análisis de expertos en el tema, tampoco corresponderían.  \\nEl Equipo de FactChecking.cl revisó la página web de la Biblioteca del Congreso Nacional (BCN) de Chile (BCN), donde se encontró un apartado con las últimas leyes publicadas. Allí, con fecha 24 de octubre 2023, se encuentra la ley numerada en 21.625, lo cual da cuenta de la cantidad total de leyes hasta dicha fecha. Por lo tanto, el número que dice Scheel supera por 2.375 leyes a las que realmente existen en Chile. \\nEn cuanto a la redefinición de que “las leyes actuales quedan caducadas y obliga a redefinir nuevas leyes”, el Equipo de Factchecking.cl buscó información al respecto en el proyecto de la nueva Constitución. El documento indica en su disposición segunda transitoria, en su numeral dos, que “toda normativa vigente a la fecha de publicación esta Constitución seguirá en vigor mientras no sea derogada, modificada o sustituida, o bien, mientras no sea declarada contraria a la Constitución por el Tribunal Constitucional, en los casos que procesa y de acuerdo a lo establecido en esta Constitución”.  \\nPor lo tanto, de aprobarse el proyecto, no existe escenario en el que la totalidad de las leyes se vea afectada por la propuesta. Sin embargo, existen salvedades que podrían verse modificadas en términos legislativos como –por ejemplo- en cuanto a leyes orgánicas, las cuales se abordarán con mayor profundidad en los siguientes párrafos. \\nDiversas visiones sobre la modificación de leyes \\nPara tener un análisis más completo del tema y comprobar la posibilidad de que cambien todas las leyes con una nueva Constitución, el Equipo de Factchecking.cl consultó a expertos constitucionalistas, quienes dieron cuenta de manera unánime que no es posible que esta propuesta pueda dejar caducas la totalidad de las leyes chilenas.  \\nEl académico de Derecho Constitucional de la Universidad Católica (UC), Arturo Fermandois, aclara: “La entrada de la nueva Constitución no produce un descalabro de leyes por derogación inmediata, sino que continuaran en vigencia la generalidad de las leyes”. \\nPor su parte, el abogado académico de la Universidad Diego Portales (UDP) especialista en el área constitucional, Gaspar Jenkins, explica que lo que ocurriría tras una posible aprobación de la propuesta constitucional sería lo que se llama una inconstitucionalidad sobrevenida, lo que no afecta a todas las leyes del país.  \\n“De aprobarse la constitución no significa que todas las leyes que existen en nuestro país se vuelven inconstitucionales. No. Lo que ocurre es que algunas leyes que pueden ser más sensibles que otras, puedan empezar a tener una contradicción con el texto constitucional, eso en términos técnicos se llama una inconstitucionalidad sobrevenida”, dice Jenkins. \\nAsimismo, el abogado constitucionalista de la Universidad Chile, Andrés Sepúlveda, esclarece que hacer un cambio en la totalidad de las leyes sería una exageración. Al respecto, detalla: “Sí, la nueva Constitución va a producir muchísimos cambios normativos, muchas normas que estaban en rangos reglamentarios o legales suben de jerarquía y pasan a completar el firmamento de las normas constitucionales que son bastante numerosas”.  \\nTomando en cuenta el análisis de los expertos en el tema y los documentos oficiales que acreditan la cantidad de leyes que existen y las consecuencias que tendría una nueva Carta Magna sobre estas, se puede vislumbrar que la afirmación hecha por el usuario, Joaquín Scheel, es falsa.  \\nLas leyes orgánicas sí podrían ser modificadas \\nEn la misma línea, el Equipo de Factchecking.cl detectó una declaración de la exconvencional  constituyente Teresa Marinovic, independiente por cupo del Partido Republicano, en la cual afirma que “la aprobación de un nuevo texto constitucional involucra también la adecuación, ajuste o reemplazo de múltiples leyes orgánicas constitucionales o ‘leyes institucionales’ que regulan aspectos tan importantes como el Banco Central, el Poder Judicial, la Contraloría General de la República, el Servicio Electoral, el Tribunal Constitucional, las Fuerzas de Orden y Seguridad Pública, las Fuerzas Armadas”. \\nEsta afirmación es verdadera, ya que –aunque la Constitución misma no cambiará las leyes- sí afecta en las condiciones en las que se ejercen, especialmente en materia de leyes orgánicas.  \\nUna ley orgánica constitucional, como lo define BCN, “establece los aspectos fundamentales del orden constitucional, incluyendo el establecimiento de instituciones como los tribunales o poder legislativo y, en algunas jurisdicciones, se les otorga estatus similar al de la propia Constitución”. Por lo tanto, una ley orgánica se encarga de regular aspectos fundamentales de la organización de un Estado y “establecerán normas básicas para la organización de las Fuerzas de Orden y Seguridad Pública” (Artículo 117 N°4).  \\nLas leyes actuales “deben ser objeto de leyes institucionales o de quorum especial” (Disposiciones Transitorias, segunda). Asimismo, las leyes orgánicas tienen jerarquía constitucional y para ser modificadas requieren de un quorum calificado. Ahora bien, en el proyecto de Constitución elaborado por el Consejo Constitucional, este tipo de leyes pasarán a llamarse leyes institucionales.  \\nCon respecto a lo mencionado por Marinovic, a través de los artículos 121 N°4 y 78 N°3 de la propuesta, queda en evidencia la relación entre las leyes institucionales y los órganos mencionados.  \\n\\n\\n\\nDe la misma forma, sí existen adecuaciones y posibles ajustes con respecto a esta propuesta. En el siguiente cuadro se detallan algunos ejemplos de artículos de disposiciones transitorias donde expresamente se tendrán que modificar leyes orgánicas. Asimismo, la propuesta también especifica la creación de órganos que anteriormente no existían, lo cual implica ajustes y producción de leyes orgánicas que lo regulen y agreguen.   \\n\\n\\n\\n \\nImplicancias de las modificaciones\\nEl Equipo de Factchecking.cl se contactó con distintos expertos constitucionales que ayudaron a clarificar este tema. El académico UDP, Gaspar Jenkins, se refirió a este asunto. Jenkins aclara que los cambios que realiza la propuesta de una nueva Constitución relacionados a derechos sociales, como Salud, Educación o Pensiones “podrían tener cambios sustantivos en sus legislaciones”.  \\nPor su parte, desde Fundación Momento Constituyente, el sociólogo de la Universidad Católica y especialista en innovación educativa y políticas públicas, Javier Pascual, explica que una Constitución puede llegar a contradecirse con leyes actuales, sin embargo, esto no cambia las leyes sino las condiciones en las que se ejercen. Esto último, agrega, es la razón por la que se añaden normas transitorias con plazos y formas definidas.  \\n“Una nueva Constitución puede, por ejemplo, contradecirse con leyes actuales que deban ser revisadas, así como puede abrir o cerrar espacios para debates pendientes. La Constitución misma no cambia las leyes, sino las condiciones en las que tramitan o ejercen. Por eso habitualmente se añaden normas transitorias que establecen plazos para los cambios necesarios y formas de hacerlos”, asegura Pascual \\nAsimismo, la profesora de Derecho Constitucional UC y exconvencional, Constanza Hube, se refiere en términos generales al proceso normativo que implica un cambio de Carta Magna: “Es progresivo y paulatino. Lo importante es comenzar a hacerlo. Pueden existir muchos diagnósticos alarmistas respecto a ‘los cambios’, pero reiterar que no es nada ajeno, se hace cada vez que se publica una nueva ley, un nuevo decreto o reglamento. Son las adecuaciones propias que consagra y seguirá consagrando nuestra legislación”.  \\nPor lo tanto, ante el análisis de los expertos en el tema, y la revisión de documentos asociados a la redacción de la nueva Constitución de la República, el Equipo de FactChecking.cl concluyó que la frase dicha por Marinovic es verdadera, ya que efectivamente las leyes orgánicas/institucionales se ven sujetas a modificaciones ante cambios en la Carta Magna. A su vez, estas leyes sí afectan en órganos importantes como el Banco Central, Servicio Electoral o Seguridad Pública.\",\n",
    "    \"El día 22 de noviembre de 2023 el usuario de TikTok @ucmati compartió un video de Tomás Enríquez, quien afirmó que con la propuesta de Constitución, se establecerá la soberanía constitucional.\\nEn esa línea, el día 21 de noviembre de 2023 la exconsejera constitucional Beatriz Hevia, emitió a través de su cuenta de Instagram, @bea.hevia, una respuesta por historias que afirmaba que se establecería la supremacía constitucional. \\nPara realizar la verificación de estas frases, el Equipo de FactChecking.cl se enfocó en cuatro puntos importantes: la diferencia entre supremacía y soberanía, la Constitución actual y la propuesta, y los tratados internacionales, los que demostraron que ambas frases son imprecisas. \\nSupremacía es distinto a soberanía \\nTomás Henríquez habla de soberanía en su afirmación, mientras que Beatriz Hevia utilizó la idea de supremacía constitucional. El Equipo de FactChecking.cl habló con expertos en derecho constitucional para discernir entre ambos conceptos.  \\nSegún el abogado constitucionalista Carlos Cruz-Coke, la diferencia radica en que “La soberanía la ejerce el pueblo mediante elecciones periódicas, plebiscitos y autoridades”, mientras que la supremacía constitucional “Se refiere al control que ejerce el Tribunal Constitucional” para que “Ninguna norma legal vaya en contra del contenido que tiene la Constitución”.  \\nPor su parte, el abogado constitucionalista Alan Bronfman explicó la diferencia de la siguiente forma: “La idea de soberanía constitucional supone que no debiese primar una norma externa sobre el derecho constitucional propio. La idea de supremacía es que, en el ámbito de la vigencia de la Constitución, la norma constitucional prima por sobre toda otra”. \\nLa Constitución actual no establece la supremacía constitucional \\nTomás Enríquez se refirió al problema del uso de documentos internacionales no vinculantes en el ordenamiento jurídico chileno, frente a lo cual señaló que “La propuesta constitucional lo que busca es ponerle fin a lo que ya existe”, lo que se lograría mediante “el establecimiento de la soberanía constitucional” en el proyecto de Carta Magna. \\nEn esa misma línea, Beatriz Hevia aseguró que “Tenemos un texto que garantiza la supremacía constitucional de nuestro ordenamiento jurídico, algo que no ocurre con la Constitución vigente”. \\n\\n\\nSoberanía y Supremacía\\nInfogram\\nEl Equipo de FactChecking.cl comparó la Constitución actual con la propuesta del Consejo Constitucional y concluyó que esta parte de la afirmación de Enríquez es falsa, ya que la Constitución vigente sí establece el principio de soberanía en el artículo cinco. \\nPor otro lado, este fragmento de la frase de Hevia es verdadero, dado que la Carta Magna actual no menciona en ninguno de sus artículos el concepto de supremacía constitucional, mientras que en la propuesta constitucional sí se garantiza este principio en su artículo 168º inciso uno. \\nLos tratados internacionales no son superiores a la Constitución \\nTomás Enríquez afirmó que en la propuesta constitucional “Lo que se estableció es que las normas de derecho interno tienen que ser compatibles con la Constitución. Los tratados internacionales, en cuanto a sus disposiciones referidas a derechos y libertades, son consideradas, pero en última instancia la comparación es si es que las normas de derecho interno son acordes (…) a la Constitución, no a los tratados”.  \\nPara verificar esta afirmación, el Equipo de FactChecking.cl recurrió al texto escrito por el Consejo Constitucional. El artículo 3 inciso 2 hace referencia a esta afirmación. \\n\\n\\nArtículo 3 Propuesta Constitucional\\nInfogram\\nEn base a la revisión de la propuesta constitucional, se estableció que esta parte de la afirmación de Tomás Enríquez es verdadera, ya que se condice con lo que propone el artículo 3, inciso 2. \\nRespecto a estos tratados, Beatriz Hevia afirmó que, con la Constitución actual, “La Corte Suprema ha interpretado que hay tratados internacionales que están por sobre nuestro Constitución (SIC)”, lo que no ocurriría con la propuesta, debido a la garantía de la supremacía constitucional. \\nA través del artículo 5 inciso 2 de la actual Carta Magna, el abogado Javier Couso explicó que no es la Corte Suprema quien interpreta que los tratados internacionales están por sobre la Constitución, sino el artículo 5, inciso 2 del texto vigente. “La constitución actual dice que la soberanía del país, o sea todos los poderes, no pueden pasar a llevar Derechos Humanos que estén en tratados que Chile ha reconocido y se encuentran vigentes”, aseguró. \\nDerecho internacional en la actualidad\\nEl abogado Cruz-Coke explicó, además, que “Todos los tratados internacionales que traten sobre materia relacionada a derechos fundamentales se aplican a cabalidad, pero no por ello significa que haya un tratado internacional que sea superior a la Constitución”. \\nSegún lo analizado por expertos y lo indicado en la actual Constitución y en la propuesta, la soberanía del país no puede transgredir los Derechos Humanos y los tratados internacionales vinculados a ellos, lo no quiere decir que estén por sobre la Constitución. \\nAdemás, no es la Corte Suprema quien interpreta esto, sino que se establece en el artículo cinco, inciso segundo de la actual Carta Fundamental. Es por esto, que el Equipo de FactCheking.cl estableció que la afirmación hecha por la exconsejera, Beatriz Hevia, es falsa. \\nEn base al análisis efectuado por expertos y la revisión de documentos, es posible determinar que las afirmaciones de Tomás Enríquez y Beatriz Hevia son imprecisas ya que, en el caso de Enríquez, la Constitución vigente también incluye el principio de soberanía, pero se condice por lo expresado en el artículo 3 de la propuesta de Carta Magna. \\nPor su parte, Hevia parte de un hecho verídico que mezcla con falsedades, puesto que lo que se establece en la Constitución vigente es que la soberanía del país no puede transgredir los tratados internacionales vinculados a los Derechos Humanos.\",\n",
    "    \"Con el inicio de la franja electoral, han surgido afirmaciones respecto a la Ley de Responsabilidad Parental o “Papito Corazón”. Figuras de A Favor y En Contra han discutido si la propuesta constitucional afecta o no a la ley actual que permite que el Estado intervenga en los fondos de pensiones de los deudores.\\nEl Equipo de Factchecking.cl los contactó y, con ayuda de abogados expertos, llegó a dos veredictos para las frases: impreciso y engañoso. Hasta el momento, no es posible hacer afirmaciones tajantes sobre los efectos de la propuesta en la Ley “Papito Corazón”, ya que dependerán de una posible y futura interpretación del Tribunal Constitucional.\\nLa propuesta de Constitución establece algunos cambios con respecto a los fondos de pensiones, y sobre quiénes estarán a cargo de ellos. Esta dice en su artículo 16 número 28, letra b, que:\\n«Cada persona tendrá propiedad sobre sus cotizaciones previsionales para la vejez y los ahorros generados por estas, y tendrá el derecho de elegir libremente la institución, estatal o privada, que los administra e invierta. En ningún caso podrán ser expropiados o apropiados por el Estado a través de mecanismo alguno».\\nDudas sobre las implicancias del artículo\\nEl 19 de noviembre, la Coordinadora Feminista 8M publicó en Instagram sus dudas sobre los efectos en la Ley de Responsabilidad Parental.\\nSi bien la propuesta explica que los fondos no podrán ser expropiados por el Estado, para el abogado constitucional de la Universidad de Chile, Andrés Sepúlveda, no es posible asegurar que peligre la ley que existe hoy: “Esa respuesta le va a corresponder darla al Tribunal Constitucional (…) En mi opinión el riesgo es muy bajo porque hay derechos fundamentales involucrados (…) Yo intuyo que no la van a dejar inconstitucional”.\\nPor esta razón, es posible establecer que la afirmación es imprecisa ya que, aunque podría existir un riesgo para la vigencia de la ley, esto dependerá de las interpretaciones que establezca el Tribunal Constitucional.\\nA través X, el senador Matías Walker (Demócratas) afirmó que es falso que la propuesta vaya a afectar la ley «Papito Corazón».Por teléfono, Walker indicó que: “Lo que prohíbe la propuesta constitucional es la expropiación o apropiación por el Estado a través de mecanismo alguno. Aquí estamos hablando de algo distinto, que es la retención con objeto de pagar una obligación, no al Estado, sino que a los hijos”.\\nPara él, como la propuesta prohíbe la “expropiación”, pero no impide la “retención” de los fondos, la Ley Papito Corazón no sería inconstitucional. Sin embargo, la abogada Camila Ramírez, docente de la Universidad Adolfo Ibáñez, afirma que “son relevantes los conceptos que ocupa el proyecto. Lamentablemente, no hay forma de asegurar que el Tribunal Constitucional, al verse enfrentado a declarar inconstitucional la popularmente llamada ‘Ley Papito Corazón’, lo haga”.\\nAsimismo, en el post, Walker mencionó que la propuesta constitucional “fortalece el pago de pensiones alimenticias”. El senador respalda su afirmación en el artículo 16, N°35. Para Walker, este artículo “refuerza la función social de la propiedad, y en ningún momento prohíbe la retención para el pago de pensiones alimenticias”.\\nLa frase del senador Walker es engañosa, pues establece proyecciones no verificables. Si bien podría ser verdadero, dependerá de la interpretación del texto.\\nLas consecuencias del pago en las familias\\nLa campaña del En Contra advirtió en panfletos que 30 mil familias se verían afectadas por este presunto cambio. Al igual que con las otras afirmaciones, no es posible establecer si se podrán o no retener los fondos de las AFP para el pago de las deudas. Sin embargo, el dato de las 30 mil familias es impreciso.\\nSegún cifras del Ministerio de la Mujer y Equidad de Género, en febrero de 2023 se registraron 30.357 deudores, y en noviembre, 166.098. El dato entregado en la campaña por el En Contra está desactualizado, aunque considerando la cifra vigente, sí podría afectar a más de 30 mil familias. Por esto, la frase es imprecisa.\\nRealizadas las debidas indagaciones a través de documentos oficiales de Ministerio de la Mujer, la revisión de la propuesta de nueva Constitución y establecidas conversaciones con abogados y fuentes expertas, el Equipo de FactChecking.cl concluyó que la primera y tercera frase son imprecisas, mientras que la segunda es engañosa.\",\n",
    "]\n",
    "\n",
    "# Obtener embeddings para cada texto\n",
    "embeddings = np.array([embed_text(text) for text in texts])\n",
    "\n",
    "# Reducir a 3 dimensiones con PCA para visualización\n",
    "pca = PCA(n_components=3)\n",
    "embeddings_3d = pca.fit_transform(embeddings)\n",
    "\n",
    "# Visualización en 3D interactiva con Plotly\n",
    "fig = go.Figure()\n",
    "\n",
    "# Añadir puntos en el gráfico\n",
    "for i, text in enumerate(texts):\n",
    "    fig.add_trace(go.Scatter3d(\n",
    "        x=[embeddings_3d[i, 0]],\n",
    "        y=[embeddings_3d[i, 1]],\n",
    "        z=[embeddings_3d[i, 2]],\n",
    "        mode='markers+text',\n",
    "        marker=dict(size=5),\n",
    "        text=[f'Text {i+1}: {i + 1}'],\n",
    "        textposition='top center'\n",
    "    ))\n",
    "\n",
    "# Configuración de los ejes\n",
    "fig.update_layout(\n",
    "    title=\"Visualización de Textos en 3D con BERT - Prueba con 5 datos\",\n",
    "    scene=dict(\n",
    "        xaxis_title=\"PC1\",\n",
    "        yaxis_title=\"PC2\",\n",
    "        zaxis_title=\"PC3\"\n",
    "    )\n",
    ")\n",
    "\n",
    "fig.show()"
   ]
  },
  {
   "cell_type": "markdown",
   "metadata": {},
   "source": [
    "## 2. Test with Fact Checking UC data (139 data)\n",
    "\n",
    "### 2.1. Load Json Data\n"
   ]
  },
  {
   "cell_type": "code",
   "execution_count": 5,
   "metadata": {},
   "outputs": [],
   "source": [
    "json_data = {}\n",
    "\n",
    "with open(\"../fact_checking_data//fact_checking_data_extracted.json\", 'r', encoding='utf-8') as file:\n",
    "    json_data = json.load(file)  \n",
    "\n",
    "texts = [fact[\"content\"] for fact in json_data[\"facts\"]]\n",
    "labels = [fact[\"veracity\"] for fact in json_data[\"facts\"]]\n",
    "\n",
    "data = {\n",
    "    \"text\": texts,\n",
    "    \"label\": labels\n",
    "}"
   ]
  },
  {
   "cell_type": "markdown",
   "metadata": {},
   "source": [
    "### 2.2. Modeling with BERT\n"
   ]
  },
  {
   "cell_type": "code",
   "execution_count": 6,
   "metadata": {},
   "outputs": [],
   "source": [
    "df = pd.DataFrame(data)\n",
    "label_map = {label: i for i, label in enumerate(df['label'].unique())}\n",
    "df['label'] = df['label'].map(label_map)\n",
    "\n",
    "# Cargar el tokenizer y modelo BERT\n",
    "tokenizer = BertTokenizer.from_pretrained(\"bert-base-uncased\")\n",
    "model = BertModel.from_pretrained(\"bert-base-uncased\")\n",
    "model.eval()  # Poner el modelo en modo de evaluación\n",
    "\n",
    "# Obtener las representaciones de los textos\n",
    "def get_embeddings(texts):\n",
    "    encodings = tokenizer(texts, return_tensors='pt', padding=True, truncation=True, max_length=512)\n",
    "    with torch.no_grad():\n",
    "        outputs = model(**encodings)\n",
    "    return outputs.last_hidden_state[:, 0, :].numpy()  # Usar el embedding [CLS]\n",
    "\n",
    "embeddings = get_embeddings(df['text'].tolist())"
   ]
  },
  {
   "cell_type": "markdown",
   "metadata": {},
   "source": [
    "### 2.2.1 Modeling with BERT - t-SNE 3D Visualization\n"
   ]
  },
  {
   "cell_type": "code",
   "execution_count": 7,
   "metadata": {},
   "outputs": [
    {
     "data": {
      "application/vnd.plotly.v1+json": {
       "config": {
        "plotlyServerURL": "https://plot.ly"
       },
       "data": [
        {
         "hovertemplate": "x=%{x}<br>y=%{y}<br>z=%{z}<br>Etiqueta=%{marker.color}<extra></extra>",
         "legendgroup": "",
         "marker": {
          "color": [
           0,
           1,
           0,
           2,
           2,
           2,
           1,
           1,
           0,
           0,
           1,
           3,
           1,
           3,
           1,
           4,
           3,
           3,
           4,
           1,
           3,
           1,
           3,
           2,
           3,
           3,
           4,
           4,
           0,
           0,
           3,
           2,
           1,
           0,
           1,
           4,
           4,
           3,
           2,
           1,
           3,
           1,
           0,
           2,
           4,
           4,
           3,
           0,
           1,
           4,
           3,
           3,
           0,
           4,
           4,
           0,
           4,
           1,
           1,
           5,
           6,
           5,
           7,
           5,
           6,
           4,
           8,
           9,
           6,
           8,
           8,
           9,
           5,
           5,
           5,
           7,
           6,
           7,
           4,
           0,
           2,
           3,
           0,
           3,
           3,
           3,
           0,
           0,
           3,
           0,
           1,
           4,
           4,
           3,
           4,
           5,
           4,
           6,
           6,
           5,
           7,
           4,
           8,
           6,
           7,
           6,
           7,
           7,
           5,
           6,
           5,
           6,
           6,
           7,
           8,
           7,
           4,
           7,
           6,
           9,
           8,
           8,
           7,
           5,
           4,
           4,
           4,
           4,
           5,
           6,
           8,
           5,
           5,
           7,
           5,
           5,
           5,
           7,
           5
          ],
          "coloraxis": "coloraxis",
          "symbol": "circle"
         },
         "mode": "markers",
         "name": "",
         "scene": "scene",
         "showlegend": false,
         "type": "scatter3d",
         "x": [
          -17.395139694213867,
          -28.674896240234375,
          -169.7060546875,
          7.891463756561279,
          43.3259391784668,
          -75.37335968017578,
          17.008018493652344,
          -19.020620346069336,
          18.830821990966797,
          32.08390426635742,
          -10.068246841430664,
          10.234904289245605,
          -11.298994064331055,
          24.696199417114258,
          -15.405344009399414,
          -29.701948165893555,
          18.14314079284668,
          120.74325561523438,
          106.80299377441406,
          -15.405344009399414,
          -21.66733169555664,
          26.272113800048828,
          23.255870819091797,
          -11.719769477844238,
          24.329404830932617,
          -18.778051376342773,
          -25.11655616760254,
          26.293359756469727,
          -13.483489990234375,
          -173.40023803710938,
          23.372303009033203,
          -7.18958044052124,
          -1.4630309343338013,
          18.095884323120117,
          -4.933867931365967,
          -24.998565673828125,
          21.737302780151367,
          -54.953617095947266,
          -7.587924003601074,
          -41.03293228149414,
          39.436397552490234,
          -18.334190368652344,
          20.698766708374023,
          -20.621721267700195,
          34.3110237121582,
          -0.4413507878780365,
          -21.21695899963379,
          -14.762248992919922,
          0.8304032683372498,
          45.8223991394043,
          11.646646499633789,
          -183.08261108398438,
          -17.298654556274414,
          -19.751115798950195,
          -9.460591316223145,
          -83.86734008789062,
          -13.4703950881958,
          26.909709930419922,
          -16.73236846923828,
          5.1081647872924805,
          2.135267972946167,
          -46.79253387451172,
          5.840437889099121,
          -2.8094799518585205,
          28.204769134521484,
          -40.524173736572266,
          -9.7322416305542,
          -3.9172310829162598,
          7.476197242736816,
          -2.9164297580718994,
          -5.099822998046875,
          -5.146408557891846,
          66.26425170898438,
          -18.22754669189453,
          0.3929189443588257,
          -29.536951065063477,
          9.284645080566406,
          16.136268615722656,
          -33.01240921020508,
          -31.94788932800293,
          19.645038604736328,
          29.177167892456055,
          36.57014846801758,
          19.56536102294922,
          22.76007080078125,
          0.3260374665260315,
          -19.256103515625,
          4.915792942047119,
          -33.30253601074219,
          -23.419675827026367,
          25.926815032958984,
          14.321900367736816,
          -9.248329162597656,
          20.627140045166016,
          2.8556137084960938,
          0.7577736377716064,
          23.738100051879883,
          -3.12296986579895,
          -24.07691192626953,
          -8.788094520568848,
          13.829071044921875,
          4.519166469573975,
          43.38957595825195,
          -21.358205795288086,
          20.23462677001953,
          16.332088470458984,
          -0.4231779873371124,
          -5.624847412109375,
          -16.76160430908203,
          17.547626495361328,
          2.051035165786743,
          8.825515747070312,
          27.257164001464844,
          18.894027709960938,
          -19.306169509887695,
          -20.692142486572266,
          19.75410270690918,
          -5.001373767852783,
          14.492264747619629,
          -3.3455066680908203,
          21.01715850830078,
          -4.0427446365356445,
          60.25973892211914,
          13.435708999633789,
          -31.549570083618164,
          -2.34490966796875,
          0.5567402243614197,
          10.729994773864746,
          -7.174961566925049,
          9.442051887512207,
          186.993896484375,
          -9.816512107849121,
          -12.06136417388916,
          -110.77892303466797,
          38.40993118286133,
          -36.782894134521484,
          -6.261297225952148,
          25.371784210205078,
          -39.782188415527344
         ],
         "y": [
          0.8337693810462952,
          15.262822151184082,
          92.41255187988281,
          -11.93857479095459,
          -1.15322744846344,
          25.006145477294922,
          -20.95541000366211,
          -13.265707015991211,
          -24.966636657714844,
          12.135634422302246,
          -6.253686904907227,
          -15.63332462310791,
          -12.138463020324707,
          10.250714302062988,
          -9.740046501159668,
          17.27359962463379,
          11.1604642868042,
          -7.282905578613281,
          -29.77635383605957,
          -9.740046501159668,
          -28.3968448638916,
          -46.83918762207031,
          14.372282981872559,
          16.027286529541016,
          -20.513290405273438,
          33.24211883544922,
          -21.283239364624023,
          13.135249137878418,
          -2.488389492034912,
          143.95713806152344,
          -26.73707389831543,
          -6.070006370544434,
          13.606827735900879,
          11.014715194702148,
          -20.174074172973633,
          0.22741013765335083,
          12.080229759216309,
          4.261514663696289,
          -15.85748291015625,
          -39.323246002197266,
          1.2168748378753662,
          -10.491793632507324,
          -28.813785552978516,
          -2.806612968444824,
          14.676396369934082,
          12.045045852661133,
          -17.998096466064453,
          -13.765034675598145,
          -10.764796257019043,
          -14.609445571899414,
          -13.015390396118164,
          -82.07696533203125,
          -14.522436141967773,
          12.912360191345215,
          -132.99256896972656,
          398.61090087890625,
          -10.41540241241455,
          40.5401611328125,
          -6.308717727661133,
          30.152700424194336,
          -19.40327262878418,
          -55.736568450927734,
          -8.447225570678711,
          24.628324508666992,
          12.577862739562988,
          13.69946575164795,
          21.76673126220703,
          -17.962541580200195,
          -20.58285903930664,
          15.285489082336426,
          -17.302549362182617,
          18.339052200317383,
          16.603086471557617,
          0.7660031318664551,
          28.9881649017334,
          2.9806642532348633,
          33.53067398071289,
          -21.31791114807129,
          14.469852447509766,
          -13.613685607910156,
          -20.39536476135254,
          17.675037384033203,
          -2.6622819900512695,
          -21.166658401489258,
          -44.00790786743164,
          -7.570662498474121,
          -15.933382034301758,
          -8.629114151000977,
          -5.50515079498291,
          13.962387084960938,
          5.008886337280273,
          8.02977466583252,
          -10.300016403198242,
          25.979084014892578,
          22.31894874572754,
          26.602933883666992,
          27.737104415893555,
          29.670303344726562,
          -100.48831939697266,
          21.56761360168457,
          -16.365726470947266,
          22.754133224487305,
          -13.064872741699219,
          -26.484886169433594,
          -12.941435813903809,
          28.935022354125977,
          18.998170852661133,
          -4.18134880065918,
          36.73735809326172,
          14.462610244750977,
          21.127656936645508,
          -30.880502700805664,
          0.4266100227832794,
          -18.59010887145996,
          -38.57787322998047,
          4.232814788818359,
          -40.611698150634766,
          -116.27996063232422,
          -60.55970764160156,
          26.468887329101562,
          19.418447494506836,
          22.298097610473633,
          -9.485491752624512,
          -27.98048210144043,
          19.22722053527832,
          -15.45252513885498,
          13.4628324508667,
          4.914114952087402,
          20.13933753967285,
          13.833826065063477,
          -22.442079544067383,
          23.09650230407715,
          -48.34157180786133,
          35.55332946777344,
          -3.090008497238159,
          31.067367553710938,
          32.80106735229492,
          16.10675621032715,
          -37.31221008300781
         ],
         "z": [
          23.420413970947266,
          -26.578107833862305,
          24.782623291015625,
          -21.13776397705078,
          35.754302978515625,
          8.904045104980469,
          20.2862548828125,
          -22.015798568725586,
          15.980875968933105,
          30.562440872192383,
          28.54890251159668,
          -17.19887351989746,
          28.863037109375,
          -10.158807754516602,
          -63.175575256347656,
          -21.360118865966797,
          -15.126775741577148,
          1.5428261756896973,
          -54.60393142700195,
          -63.175575256347656,
          6.503414154052734,
          1.64125394821167,
          -11.144425392150879,
          -16.7691650390625,
          -22.396921157836914,
          -1.6786229610443115,
          -11.19568920135498,
          -18.6912784576416,
          25.893665313720703,
          140.01417541503906,
          19.459991455078125,
          -10.402689933776855,
          -10.528397560119629,
          13.401578903198242,
          24.54181671142578,
          -0.672970175743103,
          17.307443618774414,
          -1.2412207126617432,
          26.45370101928711,
          -32.624359130859375,
          12.919815063476562,
          -25.0711612701416,
          11.57999324798584,
          -1.8507603406906128,
          26.418535232543945,
          -19.60189437866211,
          -9.322662353515625,
          30.835735321044922,
          -4.702062129974365,
          -10.096917152404785,
          -12.381688117980957,
          -66.08264923095703,
          -7.6311421394348145,
          -30.30377197265625,
          14.956629753112793,
          20.152925491333008,
          -6.096240997314453,
          0.028467673808336258,
          -3.5035881996154785,
          16.885080337524414,
          -4.842859745025635,
          0.05369260162115097,
          -24.82451629638672,
          -17.270944595336914,
          -23.78022003173828,
          116.03367614746094,
          25.49441909790039,
          -10.851197242736816,
          -17.190378189086914,
          -15.70330810546875,
          -1.0734798908233643,
          19.013376235961914,
          -90.9161376953125,
          17.902259826660156,
          -18.019094467163086,
          0.32379040122032166,
          17.96233367919922,
          -24.824893951416016,
          -30.03327751159668,
          46.701480865478516,
          12.144962310791016,
          -11.854040145874023,
          15.244864463806152,
          -15.224802017211914,
          -1.348187804222107,
          12.534599304199219,
          33.17070770263672,
          15.063522338867188,
          -44.858787536621094,
          -28.51165199279785,
          -8.080972671508789,
          10.675575256347656,
          -7.1309494972229,
          -5.8625030517578125,
          12.042593955993652,
          15.143128395080566,
          -1.6454212665557861,
          12.01146411895752,
          -19.43679428100586,
          -22.583824157714844,
          -59.06521987915039,
          37.102474212646484,
          -30.25066566467285,
          1.510522484779358,
          -21.20543670654297,
          -7.705129146575928,
          27.738407135009766,
          31.238800048828125,
          -2.657898426055908,
          -7.458312511444092,
          32.513633728027344,
          16.976415634155273,
          -5.238375186920166,
          -20.447856903076172,
          23.977008819580078,
          26.383678436279297,
          -4.319192886352539,
          -63.37508010864258,
          -16.83133888244629,
          23.9819393157959,
          -14.116068840026855,
          23.236724853515625,
          1.2481387853622437,
          16.46516227722168,
          -16.63856315612793,
          -5.909643173217773,
          27.65234375,
          8.012991905212402,
          -16.956573486328125,
          -58.76112365722656,
          -1.2694376707077026,
          -12.42172622680664,
          -5.491304397583008,
          -24.53608512878418,
          35.95322036743164,
          43.059288024902344,
          8.812638282775879,
          -4.706972122192383,
          -3.044006109237671
         ]
        }
       ],
       "layout": {
        "coloraxis": {
         "colorbar": {
          "title": {
           "text": "Etiqueta"
          }
         },
         "colorscale": [
          [
           0,
           "#440154"
          ],
          [
           0.1111111111111111,
           "#482878"
          ],
          [
           0.2222222222222222,
           "#3e4989"
          ],
          [
           0.3333333333333333,
           "#31688e"
          ],
          [
           0.4444444444444444,
           "#26828e"
          ],
          [
           0.5555555555555556,
           "#1f9e89"
          ],
          [
           0.6666666666666666,
           "#35b779"
          ],
          [
           0.7777777777777778,
           "#6ece58"
          ],
          [
           0.8888888888888888,
           "#b5de2b"
          ],
          [
           1,
           "#fde725"
          ]
         ]
        },
        "legend": {
         "tracegroupgap": 0
        },
        "scene": {
         "domain": {
          "x": [
           0,
           1
          ],
          "y": [
           0,
           1
          ]
         },
         "xaxis": {
          "title": {
           "text": "x"
          }
         },
         "yaxis": {
          "title": {
           "text": "y"
          }
         },
         "zaxis": {
          "title": {
           "text": "z"
          }
         }
        },
        "template": {
         "data": {
          "bar": [
           {
            "error_x": {
             "color": "#2a3f5f"
            },
            "error_y": {
             "color": "#2a3f5f"
            },
            "marker": {
             "line": {
              "color": "#E5ECF6",
              "width": 0.5
             },
             "pattern": {
              "fillmode": "overlay",
              "size": 10,
              "solidity": 0.2
             }
            },
            "type": "bar"
           }
          ],
          "barpolar": [
           {
            "marker": {
             "line": {
              "color": "#E5ECF6",
              "width": 0.5
             },
             "pattern": {
              "fillmode": "overlay",
              "size": 10,
              "solidity": 0.2
             }
            },
            "type": "barpolar"
           }
          ],
          "carpet": [
           {
            "aaxis": {
             "endlinecolor": "#2a3f5f",
             "gridcolor": "white",
             "linecolor": "white",
             "minorgridcolor": "white",
             "startlinecolor": "#2a3f5f"
            },
            "baxis": {
             "endlinecolor": "#2a3f5f",
             "gridcolor": "white",
             "linecolor": "white",
             "minorgridcolor": "white",
             "startlinecolor": "#2a3f5f"
            },
            "type": "carpet"
           }
          ],
          "choropleth": [
           {
            "colorbar": {
             "outlinewidth": 0,
             "ticks": ""
            },
            "type": "choropleth"
           }
          ],
          "contour": [
           {
            "colorbar": {
             "outlinewidth": 0,
             "ticks": ""
            },
            "colorscale": [
             [
              0,
              "#0d0887"
             ],
             [
              0.1111111111111111,
              "#46039f"
             ],
             [
              0.2222222222222222,
              "#7201a8"
             ],
             [
              0.3333333333333333,
              "#9c179e"
             ],
             [
              0.4444444444444444,
              "#bd3786"
             ],
             [
              0.5555555555555556,
              "#d8576b"
             ],
             [
              0.6666666666666666,
              "#ed7953"
             ],
             [
              0.7777777777777778,
              "#fb9f3a"
             ],
             [
              0.8888888888888888,
              "#fdca26"
             ],
             [
              1,
              "#f0f921"
             ]
            ],
            "type": "contour"
           }
          ],
          "contourcarpet": [
           {
            "colorbar": {
             "outlinewidth": 0,
             "ticks": ""
            },
            "type": "contourcarpet"
           }
          ],
          "heatmap": [
           {
            "colorbar": {
             "outlinewidth": 0,
             "ticks": ""
            },
            "colorscale": [
             [
              0,
              "#0d0887"
             ],
             [
              0.1111111111111111,
              "#46039f"
             ],
             [
              0.2222222222222222,
              "#7201a8"
             ],
             [
              0.3333333333333333,
              "#9c179e"
             ],
             [
              0.4444444444444444,
              "#bd3786"
             ],
             [
              0.5555555555555556,
              "#d8576b"
             ],
             [
              0.6666666666666666,
              "#ed7953"
             ],
             [
              0.7777777777777778,
              "#fb9f3a"
             ],
             [
              0.8888888888888888,
              "#fdca26"
             ],
             [
              1,
              "#f0f921"
             ]
            ],
            "type": "heatmap"
           }
          ],
          "heatmapgl": [
           {
            "colorbar": {
             "outlinewidth": 0,
             "ticks": ""
            },
            "colorscale": [
             [
              0,
              "#0d0887"
             ],
             [
              0.1111111111111111,
              "#46039f"
             ],
             [
              0.2222222222222222,
              "#7201a8"
             ],
             [
              0.3333333333333333,
              "#9c179e"
             ],
             [
              0.4444444444444444,
              "#bd3786"
             ],
             [
              0.5555555555555556,
              "#d8576b"
             ],
             [
              0.6666666666666666,
              "#ed7953"
             ],
             [
              0.7777777777777778,
              "#fb9f3a"
             ],
             [
              0.8888888888888888,
              "#fdca26"
             ],
             [
              1,
              "#f0f921"
             ]
            ],
            "type": "heatmapgl"
           }
          ],
          "histogram": [
           {
            "marker": {
             "pattern": {
              "fillmode": "overlay",
              "size": 10,
              "solidity": 0.2
             }
            },
            "type": "histogram"
           }
          ],
          "histogram2d": [
           {
            "colorbar": {
             "outlinewidth": 0,
             "ticks": ""
            },
            "colorscale": [
             [
              0,
              "#0d0887"
             ],
             [
              0.1111111111111111,
              "#46039f"
             ],
             [
              0.2222222222222222,
              "#7201a8"
             ],
             [
              0.3333333333333333,
              "#9c179e"
             ],
             [
              0.4444444444444444,
              "#bd3786"
             ],
             [
              0.5555555555555556,
              "#d8576b"
             ],
             [
              0.6666666666666666,
              "#ed7953"
             ],
             [
              0.7777777777777778,
              "#fb9f3a"
             ],
             [
              0.8888888888888888,
              "#fdca26"
             ],
             [
              1,
              "#f0f921"
             ]
            ],
            "type": "histogram2d"
           }
          ],
          "histogram2dcontour": [
           {
            "colorbar": {
             "outlinewidth": 0,
             "ticks": ""
            },
            "colorscale": [
             [
              0,
              "#0d0887"
             ],
             [
              0.1111111111111111,
              "#46039f"
             ],
             [
              0.2222222222222222,
              "#7201a8"
             ],
             [
              0.3333333333333333,
              "#9c179e"
             ],
             [
              0.4444444444444444,
              "#bd3786"
             ],
             [
              0.5555555555555556,
              "#d8576b"
             ],
             [
              0.6666666666666666,
              "#ed7953"
             ],
             [
              0.7777777777777778,
              "#fb9f3a"
             ],
             [
              0.8888888888888888,
              "#fdca26"
             ],
             [
              1,
              "#f0f921"
             ]
            ],
            "type": "histogram2dcontour"
           }
          ],
          "mesh3d": [
           {
            "colorbar": {
             "outlinewidth": 0,
             "ticks": ""
            },
            "type": "mesh3d"
           }
          ],
          "parcoords": [
           {
            "line": {
             "colorbar": {
              "outlinewidth": 0,
              "ticks": ""
             }
            },
            "type": "parcoords"
           }
          ],
          "pie": [
           {
            "automargin": true,
            "type": "pie"
           }
          ],
          "scatter": [
           {
            "fillpattern": {
             "fillmode": "overlay",
             "size": 10,
             "solidity": 0.2
            },
            "type": "scatter"
           }
          ],
          "scatter3d": [
           {
            "line": {
             "colorbar": {
              "outlinewidth": 0,
              "ticks": ""
             }
            },
            "marker": {
             "colorbar": {
              "outlinewidth": 0,
              "ticks": ""
             }
            },
            "type": "scatter3d"
           }
          ],
          "scattercarpet": [
           {
            "marker": {
             "colorbar": {
              "outlinewidth": 0,
              "ticks": ""
             }
            },
            "type": "scattercarpet"
           }
          ],
          "scattergeo": [
           {
            "marker": {
             "colorbar": {
              "outlinewidth": 0,
              "ticks": ""
             }
            },
            "type": "scattergeo"
           }
          ],
          "scattergl": [
           {
            "marker": {
             "colorbar": {
              "outlinewidth": 0,
              "ticks": ""
             }
            },
            "type": "scattergl"
           }
          ],
          "scattermapbox": [
           {
            "marker": {
             "colorbar": {
              "outlinewidth": 0,
              "ticks": ""
             }
            },
            "type": "scattermapbox"
           }
          ],
          "scatterpolar": [
           {
            "marker": {
             "colorbar": {
              "outlinewidth": 0,
              "ticks": ""
             }
            },
            "type": "scatterpolar"
           }
          ],
          "scatterpolargl": [
           {
            "marker": {
             "colorbar": {
              "outlinewidth": 0,
              "ticks": ""
             }
            },
            "type": "scatterpolargl"
           }
          ],
          "scatterternary": [
           {
            "marker": {
             "colorbar": {
              "outlinewidth": 0,
              "ticks": ""
             }
            },
            "type": "scatterternary"
           }
          ],
          "surface": [
           {
            "colorbar": {
             "outlinewidth": 0,
             "ticks": ""
            },
            "colorscale": [
             [
              0,
              "#0d0887"
             ],
             [
              0.1111111111111111,
              "#46039f"
             ],
             [
              0.2222222222222222,
              "#7201a8"
             ],
             [
              0.3333333333333333,
              "#9c179e"
             ],
             [
              0.4444444444444444,
              "#bd3786"
             ],
             [
              0.5555555555555556,
              "#d8576b"
             ],
             [
              0.6666666666666666,
              "#ed7953"
             ],
             [
              0.7777777777777778,
              "#fb9f3a"
             ],
             [
              0.8888888888888888,
              "#fdca26"
             ],
             [
              1,
              "#f0f921"
             ]
            ],
            "type": "surface"
           }
          ],
          "table": [
           {
            "cells": {
             "fill": {
              "color": "#EBF0F8"
             },
             "line": {
              "color": "white"
             }
            },
            "header": {
             "fill": {
              "color": "#C8D4E3"
             },
             "line": {
              "color": "white"
             }
            },
            "type": "table"
           }
          ]
         },
         "layout": {
          "annotationdefaults": {
           "arrowcolor": "#2a3f5f",
           "arrowhead": 0,
           "arrowwidth": 1
          },
          "autotypenumbers": "strict",
          "coloraxis": {
           "colorbar": {
            "outlinewidth": 0,
            "ticks": ""
           }
          },
          "colorscale": {
           "diverging": [
            [
             0,
             "#8e0152"
            ],
            [
             0.1,
             "#c51b7d"
            ],
            [
             0.2,
             "#de77ae"
            ],
            [
             0.3,
             "#f1b6da"
            ],
            [
             0.4,
             "#fde0ef"
            ],
            [
             0.5,
             "#f7f7f7"
            ],
            [
             0.6,
             "#e6f5d0"
            ],
            [
             0.7,
             "#b8e186"
            ],
            [
             0.8,
             "#7fbc41"
            ],
            [
             0.9,
             "#4d9221"
            ],
            [
             1,
             "#276419"
            ]
           ],
           "sequential": [
            [
             0,
             "#0d0887"
            ],
            [
             0.1111111111111111,
             "#46039f"
            ],
            [
             0.2222222222222222,
             "#7201a8"
            ],
            [
             0.3333333333333333,
             "#9c179e"
            ],
            [
             0.4444444444444444,
             "#bd3786"
            ],
            [
             0.5555555555555556,
             "#d8576b"
            ],
            [
             0.6666666666666666,
             "#ed7953"
            ],
            [
             0.7777777777777778,
             "#fb9f3a"
            ],
            [
             0.8888888888888888,
             "#fdca26"
            ],
            [
             1,
             "#f0f921"
            ]
           ],
           "sequentialminus": [
            [
             0,
             "#0d0887"
            ],
            [
             0.1111111111111111,
             "#46039f"
            ],
            [
             0.2222222222222222,
             "#7201a8"
            ],
            [
             0.3333333333333333,
             "#9c179e"
            ],
            [
             0.4444444444444444,
             "#bd3786"
            ],
            [
             0.5555555555555556,
             "#d8576b"
            ],
            [
             0.6666666666666666,
             "#ed7953"
            ],
            [
             0.7777777777777778,
             "#fb9f3a"
            ],
            [
             0.8888888888888888,
             "#fdca26"
            ],
            [
             1,
             "#f0f921"
            ]
           ]
          },
          "colorway": [
           "#636efa",
           "#EF553B",
           "#00cc96",
           "#ab63fa",
           "#FFA15A",
           "#19d3f3",
           "#FF6692",
           "#B6E880",
           "#FF97FF",
           "#FECB52"
          ],
          "font": {
           "color": "#2a3f5f"
          },
          "geo": {
           "bgcolor": "white",
           "lakecolor": "white",
           "landcolor": "#E5ECF6",
           "showlakes": true,
           "showland": true,
           "subunitcolor": "white"
          },
          "hoverlabel": {
           "align": "left"
          },
          "hovermode": "closest",
          "mapbox": {
           "style": "light"
          },
          "paper_bgcolor": "white",
          "plot_bgcolor": "#E5ECF6",
          "polar": {
           "angularaxis": {
            "gridcolor": "white",
            "linecolor": "white",
            "ticks": ""
           },
           "bgcolor": "#E5ECF6",
           "radialaxis": {
            "gridcolor": "white",
            "linecolor": "white",
            "ticks": ""
           }
          },
          "scene": {
           "xaxis": {
            "backgroundcolor": "#E5ECF6",
            "gridcolor": "white",
            "gridwidth": 2,
            "linecolor": "white",
            "showbackground": true,
            "ticks": "",
            "zerolinecolor": "white"
           },
           "yaxis": {
            "backgroundcolor": "#E5ECF6",
            "gridcolor": "white",
            "gridwidth": 2,
            "linecolor": "white",
            "showbackground": true,
            "ticks": "",
            "zerolinecolor": "white"
           },
           "zaxis": {
            "backgroundcolor": "#E5ECF6",
            "gridcolor": "white",
            "gridwidth": 2,
            "linecolor": "white",
            "showbackground": true,
            "ticks": "",
            "zerolinecolor": "white"
           }
          },
          "shapedefaults": {
           "line": {
            "color": "#2a3f5f"
           }
          },
          "ternary": {
           "aaxis": {
            "gridcolor": "white",
            "linecolor": "white",
            "ticks": ""
           },
           "baxis": {
            "gridcolor": "white",
            "linecolor": "white",
            "ticks": ""
           },
           "bgcolor": "#E5ECF6",
           "caxis": {
            "gridcolor": "white",
            "linecolor": "white",
            "ticks": ""
           }
          },
          "title": {
           "x": 0.05
          },
          "xaxis": {
           "automargin": true,
           "gridcolor": "white",
           "linecolor": "white",
           "ticks": "",
           "title": {
            "standoff": 15
           },
           "zerolinecolor": "white",
           "zerolinewidth": 2
          },
          "yaxis": {
           "automargin": true,
           "gridcolor": "white",
           "linecolor": "white",
           "ticks": "",
           "title": {
            "standoff": 15
           },
           "zerolinecolor": "white",
           "zerolinewidth": 2
          }
         }
        },
        "title": {
         "text": "Visualización 3D de Textos con t-SNE"
        }
       }
      }
     },
     "metadata": {},
     "output_type": "display_data"
    }
   ],
   "source": [
    "# Reducir dimensionalidad a 3D usando t-SNE\n",
    "tsne = TSNE(n_components=3, perplexity=1, random_state=42)\n",
    "embeddings_3d = tsne.fit_transform(embeddings)\n",
    "\n",
    "# Crear un DataFrame para las coordenadas 3D y las etiquetas\n",
    "df_3d = pd.DataFrame(embeddings_3d, columns=['x', 'y', 'z'])\n",
    "df_3d['label'] = df['label']\n",
    "\n",
    "# Visualización en 3D con Plotly\n",
    "fig = px.scatter_3d(df_3d, x='x', y='y', z='z', color='label',\n",
    "                    title='Visualización 3D de Textos con t-SNE',\n",
    "                    labels={'label': 'Etiqueta'},\n",
    "                    color_continuous_scale=px.colors.sequential.Viridis)\n",
    "\n",
    "fig.show()"
   ]
  },
  {
   "cell_type": "markdown",
   "metadata": {},
   "source": [
    "### 2.2.2 Modeling with BERT - t-SNE 2D Visualization\n"
   ]
  },
  {
   "cell_type": "code",
   "execution_count": 8,
   "metadata": {},
   "outputs": [
    {
     "data": {
      "application/vnd.plotly.v1+json": {
       "config": {
        "plotlyServerURL": "https://plot.ly"
       },
       "data": [
        {
         "hovertemplate": "x=%{x}<br>y=%{y}<br>Etiqueta=%{marker.color}<extra></extra>",
         "legendgroup": "",
         "marker": {
          "color": [
           0,
           1,
           0,
           2,
           2,
           2,
           1,
           1,
           0,
           0,
           1,
           3,
           1,
           3,
           1,
           4,
           3,
           3,
           4,
           1,
           3,
           1,
           3,
           2,
           3,
           3,
           4,
           4,
           0,
           0,
           3,
           2,
           1,
           0,
           1,
           4,
           4,
           3,
           2,
           1,
           3,
           1,
           0,
           2,
           4,
           4,
           3,
           0,
           1,
           4,
           3,
           3,
           0,
           4,
           4,
           0,
           4,
           1,
           1,
           5,
           6,
           5,
           7,
           5,
           6,
           4,
           8,
           9,
           6,
           8,
           8,
           9,
           5,
           5,
           5,
           7,
           6,
           7,
           4,
           0,
           2,
           3,
           0,
           3,
           3,
           3,
           0,
           0,
           3,
           0,
           1,
           4,
           4,
           3,
           4,
           5,
           4,
           6,
           6,
           5,
           7,
           4,
           8,
           6,
           7,
           6,
           7,
           7,
           5,
           6,
           5,
           6,
           6,
           7,
           8,
           7,
           4,
           7,
           6,
           9,
           8,
           8,
           7,
           5,
           4,
           4,
           4,
           4,
           5,
           6,
           8,
           5,
           5,
           7,
           5,
           5,
           5,
           7,
           5
          ],
          "coloraxis": "coloraxis",
          "symbol": "circle"
         },
         "mode": "markers",
         "name": "",
         "orientation": "v",
         "showlegend": false,
         "type": "scatter",
         "x": [
          17.081329345703125,
          -42.973270416259766,
          42.21280288696289,
          38.89436721801758,
          -45.07892990112305,
          -58.02849578857422,
          -51.4985237121582,
          32.17334747314453,
          -52.257877349853516,
          39.08866500854492,
          16.16046142578125,
          37.76602554321289,
          17.847652435302734,
          -11.363077163696289,
          -124.4122085571289,
          -44.70606994628906,
          -14.143600463867188,
          10.898605346679688,
          -47.36275863647461,
          -124.4122085571289,
          33.9245719909668,
          35.07211685180664,
          -12.308321952819824,
          -11.623785972595215,
          44.7995719909668,
          61.077484130859375,
          12.663047790527344,
          -12.008807182312012,
          16.707548141479492,
          -46.622283935546875,
          -54.11858367919922,
          19.644325256347656,
          -14.416363716125488,
          9.729999542236328,
          15.489030838012695,
          15.100455284118652,
          11.173812866210938,
          58.56490707397461,
          16.36079216003418,
          -86.80915069580078,
          12.157624244689941,
          31.78584861755371,
          -50.84141159057617,
          15.64888858795166,
          39.64645767211914,
          -16.975759506225586,
          12.5954008102417,
          18.81519317626953,
          29.5451717376709,
          39.196632385253906,
          38.4843635559082,
          9.53514289855957,
          14.522107124328613,
          -39.74672317504883,
          -43.823612213134766,
          -44.81376266479492,
          16.985368728637695,
          10.268497467041016,
          16.183483123779297,
          -23.08409881591797,
          26.247339248657227,
          -60.6120719909668,
          39.64446258544922,
          -9.367897987365723,
          -11.9495267868042,
          36.95063400268555,
          -18.316123962402344,
          28.991052627563477,
          36.036033630371094,
          -15.301386833190918,
          26.8018741607666,
          -16.68878746032715,
          56.228065490722656,
          15.770654678344727,
          -7.900333404541016,
          14.592609405517578,
          -24.677001953125,
          43.15707778930664,
          -43.3259391784668,
          40.41373825073242,
          -53.27821350097656,
          -15.496384620666504,
          13.31485366821289,
          45.54391860961914,
          36.52184295654297,
          4.780547618865967,
          20.691247940063477,
          6.142213344573975,
          33.83357238769531,
          -40.517032623291016,
          -7.816346645355225,
          7.8989577293396,
          17.974533081054688,
          -19.39243507385254,
          -19.544479370117188,
          -20.8184757232666,
          -20.66398811340332,
          -20.322998046875,
          -20.548219680786133,
          -14.422353744506836,
          -143.06320190429688,
          -8.208833694458008,
          -21.99254608154297,
          33.16244888305664,
          47.113121032714844,
          -19.241058349609375,
          -11.535801887512207,
          14.585897445678711,
          60.27600860595703,
          -12.567458152770996,
          -9.689929962158203,
          -55.823974609375,
          -6.120246887207031,
          44.97084426879883,
          62.824859619140625,
          18.700407028198242,
          37.96804428100586,
          41.62208938598633,
          -58.827369689941406,
          -15.689676284790039,
          -9.610835075378418,
          -16.32273292541504,
          -4.422872543334961,
          -54.8796272277832,
          -45.9908561706543,
          27.906097412109375,
          -11.680197715759277,
          6.598881721496582,
          -12.537032127380371,
          -135.6624755859375,
          35.42399215698242,
          -12.712690353393555,
          -114.8655014038086,
          -3.0104615688323975,
          -47.012794494628906,
          56.96701431274414,
          -19.993318557739258,
          -12.393233299255371,
          -21.009464263916016
         ],
         "xaxis": "x",
         "y": [
          -3.0673086643218994,
          20.730667114257812,
          -9.59406852722168,
          29.37134552001953,
          44.949310302734375,
          4.189876556396484,
          -23.76348876953125,
          55.88337326049805,
          -22.087575912475586,
          -71.533935546875,
          -7.738260269165039,
          27.318944931030273,
          -11.516335487365723,
          -31.614654541015625,
          60.65869903564453,
          22.095497131347656,
          -31.271610260009766,
          29.929845809936523,
          -22.70012664794922,
          60.65869903564453,
          59.06965637207031,
          -35.55594253540039,
          -32.18634033203125,
          62.628456115722656,
          24.17071533203125,
          -0.2592621147632599,
          27.565326690673828,
          -38.20991897583008,
          -5.4497880935668945,
          -22.783639907836914,
          -22.158641815185547,
          31.72760772705078,
          58.09406280517578,
          -64.80301666259766,
          -14.907779693603516,
          39.35508728027344,
          -65.64592742919922,
          -24.233562469482422,
          -13.564496994018555,
          111.39666748046875,
          -59.816741943359375,
          55.18075180053711,
          -20.875564575195312,
          37.48915481567383,
          -69.81510925292969,
          59.62742614746094,
          29.360353469848633,
          -11.533329963684082,
          30.56847381591797,
          -38.9277229309082,
          25.766355514526367,
          -61.14506149291992,
          30.838279724121094,
          21.5687255859375,
          46.51629638671875,
          44.115455627441406,
          32.68239974975586,
          -61.43080139160156,
          35.560089111328125,
          4.268194675445557,
          28.221580505371094,
          4.605209827423096,
          30.797996520996094,
          65.26271057128906,
          -39.71051025390625,
          -72.12626647949219,
          10.310150146484375,
          27.70497703552246,
          27.3505916595459,
          59.51401901245117,
          31.0698184967041,
          12.816452980041504,
          -23.167816162109375,
          -1.8454978466033936,
          65.83609771728516,
          40.88361740112305,
          4.530147075653076,
          21.693058013916016,
          19.004718780517578,
          -72.77381134033203,
          -19.532812118530273,
          -33.947547912597656,
          -58.71739196777344,
          20.21088409423828,
          -36.737892150878906,
          108.52496337890625,
          -11.743372917175293,
          108.52615356445312,
          -34.554351806640625,
          21.366052627563477,
          -29.630456924438477,
          -66.02474212646484,
          32.34023666381836,
          -28.595861434936523,
          4.778117656707764,
          3.8199777603149414,
          -29.624792098999023,
          1.4601970911026,
          -57.830020904541016,
          64.05553436279297,
          11.985971450805664,
          10.802995681762695,
          -59.89356994628906,
          57.68840408325195,
          22.59202766418457,
          -26.97344970703125,
          12.396190643310547,
          -8.129220962524414,
          -0.3342493176460266,
          -34.08416748046875,
          11.430721282958984,
          -26.85010528564453,
          -28.7070369720459,
          22.291301727294922,
          -0.09568461775779724,
          -2.314058542251587,
          -37.92081069946289,
          -9.887755393981934,
          4.3188796043396,
          10.192423820495605,
          -33.79719161987305,
          10.752703666687012,
          -27.783008575439453,
          -25.63201141357422,
          23.059139251708984,
          29.404497146606445,
          14.033446311950684,
          -66.97396850585938,
          64.11638641357422,
          -31.622920989990234,
          -72.55880737304688,
          66.10584259033203,
          -77.71306610107422,
          -27.024011611938477,
          45.49892044067383,
          -23.50193214416504,
          -0.11978466808795929,
          -28.923683166503906,
          -58.48872375488281
         ],
         "yaxis": "y"
        }
       ],
       "layout": {
        "coloraxis": {
         "colorbar": {
          "title": {
           "text": "Etiqueta"
          }
         },
         "colorscale": [
          [
           0,
           "#440154"
          ],
          [
           0.1111111111111111,
           "#482878"
          ],
          [
           0.2222222222222222,
           "#3e4989"
          ],
          [
           0.3333333333333333,
           "#31688e"
          ],
          [
           0.4444444444444444,
           "#26828e"
          ],
          [
           0.5555555555555556,
           "#1f9e89"
          ],
          [
           0.6666666666666666,
           "#35b779"
          ],
          [
           0.7777777777777778,
           "#6ece58"
          ],
          [
           0.8888888888888888,
           "#b5de2b"
          ],
          [
           1,
           "#fde725"
          ]
         ]
        },
        "legend": {
         "tracegroupgap": 0
        },
        "template": {
         "data": {
          "bar": [
           {
            "error_x": {
             "color": "#2a3f5f"
            },
            "error_y": {
             "color": "#2a3f5f"
            },
            "marker": {
             "line": {
              "color": "#E5ECF6",
              "width": 0.5
             },
             "pattern": {
              "fillmode": "overlay",
              "size": 10,
              "solidity": 0.2
             }
            },
            "type": "bar"
           }
          ],
          "barpolar": [
           {
            "marker": {
             "line": {
              "color": "#E5ECF6",
              "width": 0.5
             },
             "pattern": {
              "fillmode": "overlay",
              "size": 10,
              "solidity": 0.2
             }
            },
            "type": "barpolar"
           }
          ],
          "carpet": [
           {
            "aaxis": {
             "endlinecolor": "#2a3f5f",
             "gridcolor": "white",
             "linecolor": "white",
             "minorgridcolor": "white",
             "startlinecolor": "#2a3f5f"
            },
            "baxis": {
             "endlinecolor": "#2a3f5f",
             "gridcolor": "white",
             "linecolor": "white",
             "minorgridcolor": "white",
             "startlinecolor": "#2a3f5f"
            },
            "type": "carpet"
           }
          ],
          "choropleth": [
           {
            "colorbar": {
             "outlinewidth": 0,
             "ticks": ""
            },
            "type": "choropleth"
           }
          ],
          "contour": [
           {
            "colorbar": {
             "outlinewidth": 0,
             "ticks": ""
            },
            "colorscale": [
             [
              0,
              "#0d0887"
             ],
             [
              0.1111111111111111,
              "#46039f"
             ],
             [
              0.2222222222222222,
              "#7201a8"
             ],
             [
              0.3333333333333333,
              "#9c179e"
             ],
             [
              0.4444444444444444,
              "#bd3786"
             ],
             [
              0.5555555555555556,
              "#d8576b"
             ],
             [
              0.6666666666666666,
              "#ed7953"
             ],
             [
              0.7777777777777778,
              "#fb9f3a"
             ],
             [
              0.8888888888888888,
              "#fdca26"
             ],
             [
              1,
              "#f0f921"
             ]
            ],
            "type": "contour"
           }
          ],
          "contourcarpet": [
           {
            "colorbar": {
             "outlinewidth": 0,
             "ticks": ""
            },
            "type": "contourcarpet"
           }
          ],
          "heatmap": [
           {
            "colorbar": {
             "outlinewidth": 0,
             "ticks": ""
            },
            "colorscale": [
             [
              0,
              "#0d0887"
             ],
             [
              0.1111111111111111,
              "#46039f"
             ],
             [
              0.2222222222222222,
              "#7201a8"
             ],
             [
              0.3333333333333333,
              "#9c179e"
             ],
             [
              0.4444444444444444,
              "#bd3786"
             ],
             [
              0.5555555555555556,
              "#d8576b"
             ],
             [
              0.6666666666666666,
              "#ed7953"
             ],
             [
              0.7777777777777778,
              "#fb9f3a"
             ],
             [
              0.8888888888888888,
              "#fdca26"
             ],
             [
              1,
              "#f0f921"
             ]
            ],
            "type": "heatmap"
           }
          ],
          "heatmapgl": [
           {
            "colorbar": {
             "outlinewidth": 0,
             "ticks": ""
            },
            "colorscale": [
             [
              0,
              "#0d0887"
             ],
             [
              0.1111111111111111,
              "#46039f"
             ],
             [
              0.2222222222222222,
              "#7201a8"
             ],
             [
              0.3333333333333333,
              "#9c179e"
             ],
             [
              0.4444444444444444,
              "#bd3786"
             ],
             [
              0.5555555555555556,
              "#d8576b"
             ],
             [
              0.6666666666666666,
              "#ed7953"
             ],
             [
              0.7777777777777778,
              "#fb9f3a"
             ],
             [
              0.8888888888888888,
              "#fdca26"
             ],
             [
              1,
              "#f0f921"
             ]
            ],
            "type": "heatmapgl"
           }
          ],
          "histogram": [
           {
            "marker": {
             "pattern": {
              "fillmode": "overlay",
              "size": 10,
              "solidity": 0.2
             }
            },
            "type": "histogram"
           }
          ],
          "histogram2d": [
           {
            "colorbar": {
             "outlinewidth": 0,
             "ticks": ""
            },
            "colorscale": [
             [
              0,
              "#0d0887"
             ],
             [
              0.1111111111111111,
              "#46039f"
             ],
             [
              0.2222222222222222,
              "#7201a8"
             ],
             [
              0.3333333333333333,
              "#9c179e"
             ],
             [
              0.4444444444444444,
              "#bd3786"
             ],
             [
              0.5555555555555556,
              "#d8576b"
             ],
             [
              0.6666666666666666,
              "#ed7953"
             ],
             [
              0.7777777777777778,
              "#fb9f3a"
             ],
             [
              0.8888888888888888,
              "#fdca26"
             ],
             [
              1,
              "#f0f921"
             ]
            ],
            "type": "histogram2d"
           }
          ],
          "histogram2dcontour": [
           {
            "colorbar": {
             "outlinewidth": 0,
             "ticks": ""
            },
            "colorscale": [
             [
              0,
              "#0d0887"
             ],
             [
              0.1111111111111111,
              "#46039f"
             ],
             [
              0.2222222222222222,
              "#7201a8"
             ],
             [
              0.3333333333333333,
              "#9c179e"
             ],
             [
              0.4444444444444444,
              "#bd3786"
             ],
             [
              0.5555555555555556,
              "#d8576b"
             ],
             [
              0.6666666666666666,
              "#ed7953"
             ],
             [
              0.7777777777777778,
              "#fb9f3a"
             ],
             [
              0.8888888888888888,
              "#fdca26"
             ],
             [
              1,
              "#f0f921"
             ]
            ],
            "type": "histogram2dcontour"
           }
          ],
          "mesh3d": [
           {
            "colorbar": {
             "outlinewidth": 0,
             "ticks": ""
            },
            "type": "mesh3d"
           }
          ],
          "parcoords": [
           {
            "line": {
             "colorbar": {
              "outlinewidth": 0,
              "ticks": ""
             }
            },
            "type": "parcoords"
           }
          ],
          "pie": [
           {
            "automargin": true,
            "type": "pie"
           }
          ],
          "scatter": [
           {
            "fillpattern": {
             "fillmode": "overlay",
             "size": 10,
             "solidity": 0.2
            },
            "type": "scatter"
           }
          ],
          "scatter3d": [
           {
            "line": {
             "colorbar": {
              "outlinewidth": 0,
              "ticks": ""
             }
            },
            "marker": {
             "colorbar": {
              "outlinewidth": 0,
              "ticks": ""
             }
            },
            "type": "scatter3d"
           }
          ],
          "scattercarpet": [
           {
            "marker": {
             "colorbar": {
              "outlinewidth": 0,
              "ticks": ""
             }
            },
            "type": "scattercarpet"
           }
          ],
          "scattergeo": [
           {
            "marker": {
             "colorbar": {
              "outlinewidth": 0,
              "ticks": ""
             }
            },
            "type": "scattergeo"
           }
          ],
          "scattergl": [
           {
            "marker": {
             "colorbar": {
              "outlinewidth": 0,
              "ticks": ""
             }
            },
            "type": "scattergl"
           }
          ],
          "scattermapbox": [
           {
            "marker": {
             "colorbar": {
              "outlinewidth": 0,
              "ticks": ""
             }
            },
            "type": "scattermapbox"
           }
          ],
          "scatterpolar": [
           {
            "marker": {
             "colorbar": {
              "outlinewidth": 0,
              "ticks": ""
             }
            },
            "type": "scatterpolar"
           }
          ],
          "scatterpolargl": [
           {
            "marker": {
             "colorbar": {
              "outlinewidth": 0,
              "ticks": ""
             }
            },
            "type": "scatterpolargl"
           }
          ],
          "scatterternary": [
           {
            "marker": {
             "colorbar": {
              "outlinewidth": 0,
              "ticks": ""
             }
            },
            "type": "scatterternary"
           }
          ],
          "surface": [
           {
            "colorbar": {
             "outlinewidth": 0,
             "ticks": ""
            },
            "colorscale": [
             [
              0,
              "#0d0887"
             ],
             [
              0.1111111111111111,
              "#46039f"
             ],
             [
              0.2222222222222222,
              "#7201a8"
             ],
             [
              0.3333333333333333,
              "#9c179e"
             ],
             [
              0.4444444444444444,
              "#bd3786"
             ],
             [
              0.5555555555555556,
              "#d8576b"
             ],
             [
              0.6666666666666666,
              "#ed7953"
             ],
             [
              0.7777777777777778,
              "#fb9f3a"
             ],
             [
              0.8888888888888888,
              "#fdca26"
             ],
             [
              1,
              "#f0f921"
             ]
            ],
            "type": "surface"
           }
          ],
          "table": [
           {
            "cells": {
             "fill": {
              "color": "#EBF0F8"
             },
             "line": {
              "color": "white"
             }
            },
            "header": {
             "fill": {
              "color": "#C8D4E3"
             },
             "line": {
              "color": "white"
             }
            },
            "type": "table"
           }
          ]
         },
         "layout": {
          "annotationdefaults": {
           "arrowcolor": "#2a3f5f",
           "arrowhead": 0,
           "arrowwidth": 1
          },
          "autotypenumbers": "strict",
          "coloraxis": {
           "colorbar": {
            "outlinewidth": 0,
            "ticks": ""
           }
          },
          "colorscale": {
           "diverging": [
            [
             0,
             "#8e0152"
            ],
            [
             0.1,
             "#c51b7d"
            ],
            [
             0.2,
             "#de77ae"
            ],
            [
             0.3,
             "#f1b6da"
            ],
            [
             0.4,
             "#fde0ef"
            ],
            [
             0.5,
             "#f7f7f7"
            ],
            [
             0.6,
             "#e6f5d0"
            ],
            [
             0.7,
             "#b8e186"
            ],
            [
             0.8,
             "#7fbc41"
            ],
            [
             0.9,
             "#4d9221"
            ],
            [
             1,
             "#276419"
            ]
           ],
           "sequential": [
            [
             0,
             "#0d0887"
            ],
            [
             0.1111111111111111,
             "#46039f"
            ],
            [
             0.2222222222222222,
             "#7201a8"
            ],
            [
             0.3333333333333333,
             "#9c179e"
            ],
            [
             0.4444444444444444,
             "#bd3786"
            ],
            [
             0.5555555555555556,
             "#d8576b"
            ],
            [
             0.6666666666666666,
             "#ed7953"
            ],
            [
             0.7777777777777778,
             "#fb9f3a"
            ],
            [
             0.8888888888888888,
             "#fdca26"
            ],
            [
             1,
             "#f0f921"
            ]
           ],
           "sequentialminus": [
            [
             0,
             "#0d0887"
            ],
            [
             0.1111111111111111,
             "#46039f"
            ],
            [
             0.2222222222222222,
             "#7201a8"
            ],
            [
             0.3333333333333333,
             "#9c179e"
            ],
            [
             0.4444444444444444,
             "#bd3786"
            ],
            [
             0.5555555555555556,
             "#d8576b"
            ],
            [
             0.6666666666666666,
             "#ed7953"
            ],
            [
             0.7777777777777778,
             "#fb9f3a"
            ],
            [
             0.8888888888888888,
             "#fdca26"
            ],
            [
             1,
             "#f0f921"
            ]
           ]
          },
          "colorway": [
           "#636efa",
           "#EF553B",
           "#00cc96",
           "#ab63fa",
           "#FFA15A",
           "#19d3f3",
           "#FF6692",
           "#B6E880",
           "#FF97FF",
           "#FECB52"
          ],
          "font": {
           "color": "#2a3f5f"
          },
          "geo": {
           "bgcolor": "white",
           "lakecolor": "white",
           "landcolor": "#E5ECF6",
           "showlakes": true,
           "showland": true,
           "subunitcolor": "white"
          },
          "hoverlabel": {
           "align": "left"
          },
          "hovermode": "closest",
          "mapbox": {
           "style": "light"
          },
          "paper_bgcolor": "white",
          "plot_bgcolor": "#E5ECF6",
          "polar": {
           "angularaxis": {
            "gridcolor": "white",
            "linecolor": "white",
            "ticks": ""
           },
           "bgcolor": "#E5ECF6",
           "radialaxis": {
            "gridcolor": "white",
            "linecolor": "white",
            "ticks": ""
           }
          },
          "scene": {
           "xaxis": {
            "backgroundcolor": "#E5ECF6",
            "gridcolor": "white",
            "gridwidth": 2,
            "linecolor": "white",
            "showbackground": true,
            "ticks": "",
            "zerolinecolor": "white"
           },
           "yaxis": {
            "backgroundcolor": "#E5ECF6",
            "gridcolor": "white",
            "gridwidth": 2,
            "linecolor": "white",
            "showbackground": true,
            "ticks": "",
            "zerolinecolor": "white"
           },
           "zaxis": {
            "backgroundcolor": "#E5ECF6",
            "gridcolor": "white",
            "gridwidth": 2,
            "linecolor": "white",
            "showbackground": true,
            "ticks": "",
            "zerolinecolor": "white"
           }
          },
          "shapedefaults": {
           "line": {
            "color": "#2a3f5f"
           }
          },
          "ternary": {
           "aaxis": {
            "gridcolor": "white",
            "linecolor": "white",
            "ticks": ""
           },
           "baxis": {
            "gridcolor": "white",
            "linecolor": "white",
            "ticks": ""
           },
           "bgcolor": "#E5ECF6",
           "caxis": {
            "gridcolor": "white",
            "linecolor": "white",
            "ticks": ""
           }
          },
          "title": {
           "x": 0.05
          },
          "xaxis": {
           "automargin": true,
           "gridcolor": "white",
           "linecolor": "white",
           "ticks": "",
           "title": {
            "standoff": 15
           },
           "zerolinecolor": "white",
           "zerolinewidth": 2
          },
          "yaxis": {
           "automargin": true,
           "gridcolor": "white",
           "linecolor": "white",
           "ticks": "",
           "title": {
            "standoff": 15
           },
           "zerolinecolor": "white",
           "zerolinewidth": 2
          }
         }
        },
        "title": {
         "text": "Visualización 2D de Textos con T-SNE"
        },
        "xaxis": {
         "anchor": "y",
         "domain": [
          0,
          1
         ],
         "title": {
          "text": "x"
         }
        },
        "yaxis": {
         "anchor": "x",
         "domain": [
          0,
          1
         ],
         "title": {
          "text": "y"
         }
        }
       }
      }
     },
     "metadata": {},
     "output_type": "display_data"
    }
   ],
   "source": [
    "tsne = TSNE(n_components=2, perplexity=1, random_state=42)\n",
    "embeddings_3d = tsne.fit_transform(embeddings)\n",
    "\n",
    "# Crear un DataFrame para las coordenadas 3D y las etiquetas\n",
    "df_3d = pd.DataFrame(embeddings_3d, columns=['x', 'y'])\n",
    "df_3d['label'] = df['label']\n",
    "\n",
    "# Visualización en 3D con Plotly\n",
    "fig = px.scatter(df_3d, x='x', y='y', color='label',\n",
    "                    title='Visualización 2D de Textos con T-SNE',\n",
    "                    labels={'label': 'Etiqueta'},\n",
    "                    color_continuous_scale=px.colors.sequential.Viridis)\n",
    "fig.show()"
   ]
  },
  {
   "cell_type": "markdown",
   "metadata": {},
   "source": [
    "### 2.2.2 Modeling with BERT - UMAP 2D Visualization\n"
   ]
  },
  {
   "cell_type": "code",
   "execution_count": 9,
   "metadata": {},
   "outputs": [
    {
     "name": "stderr",
     "output_type": "stream",
     "text": [
      "c:\\Users\\usuario\\Documents\\UNIVERSIDAD\\2024 - 2do Semestre\\Capstone\\Web Scraping\\code\\.venv\\Lib\\site-packages\\umap\\umap_.py:1952: UserWarning:\n",
      "\n",
      "n_jobs value 1 overridden to 1 by setting random_state. Use no seed for parallelism.\n",
      "\n"
     ]
    },
    {
     "data": {
      "application/vnd.plotly.v1+json": {
       "config": {
        "plotlyServerURL": "https://plot.ly"
       },
       "data": [
        {
         "hovertemplate": "x=%{x}<br>y=%{y}<br>Etiqueta=%{marker.color}<extra></extra>",
         "legendgroup": "",
         "marker": {
          "color": [
           0,
           1,
           0,
           2,
           2,
           2,
           1,
           1,
           0,
           0,
           1,
           3,
           1,
           3,
           1,
           4,
           3,
           3,
           4,
           1,
           3,
           1,
           3,
           2,
           3,
           3,
           4,
           4,
           0,
           0,
           3,
           2,
           1,
           0,
           1,
           4,
           4,
           3,
           2,
           1,
           3,
           1,
           0,
           2,
           4,
           4,
           3,
           0,
           1,
           4,
           3,
           3,
           0,
           4,
           4,
           0,
           4,
           1,
           1,
           5,
           6,
           5,
           7,
           5,
           6,
           4,
           8,
           9,
           6,
           8,
           8,
           9,
           5,
           5,
           5,
           7,
           6,
           7,
           4,
           0,
           2,
           3,
           0,
           3,
           3,
           3,
           0,
           0,
           3,
           0,
           1,
           4,
           4,
           3,
           4,
           5,
           4,
           6,
           6,
           5,
           7,
           4,
           8,
           6,
           7,
           6,
           7,
           7,
           5,
           6,
           5,
           6,
           6,
           7,
           8,
           7,
           4,
           7,
           6,
           9,
           8,
           8,
           7,
           5,
           4,
           4,
           4,
           4,
           5,
           6,
           8,
           5,
           5,
           7,
           5,
           5,
           5,
           7,
           5
          ],
          "coloraxis": "coloraxis",
          "symbol": "circle"
         },
         "mode": "markers",
         "name": "",
         "orientation": "v",
         "showlegend": false,
         "type": "scatter",
         "x": [
          13.376949310302734,
          13.550834655761719,
          12.690919876098633,
          14.566940307617188,
          14.299269676208496,
          13.02801513671875,
          14.15954875946045,
          13.353489875793457,
          15.01468563079834,
          12.873221397399902,
          13.653542518615723,
          14.784626007080078,
          14.183162689208984,
          14.15427303314209,
          14.809114456176758,
          15.433727264404297,
          13.79223346710205,
          12.454827308654785,
          15.118247985839844,
          14.870455741882324,
          12.597036361694336,
          15.559550285339355,
          14.530590057373047,
          11.587141990661621,
          13.66141128540039,
          12.172325134277344,
          13.068775177001953,
          14.829001426696777,
          13.822437286376953,
          15.012686729431152,
          14.985252380371094,
          15.261153221130371,
          11.845714569091797,
          14.327984809875488,
          13.447680473327637,
          12.854598045349121,
          14.418752670288086,
          13.025873184204102,
          13.728883743286133,
          15.246628761291504,
          14.45078182220459,
          13.07309627532959,
          14.771892547607422,
          13.455769538879395,
          12.898990631103516,
          12.379616737365723,
          13.362992286682129,
          15.03620719909668,
          15.191158294677734,
          14.625762939453125,
          15.101512908935547,
          15.273985862731934,
          14.764383316040039,
          14.865784645080566,
          14.44355583190918,
          14.933635711669922,
          14.592572212219238,
          14.64457893371582,
          13.832427024841309,
          13.90332317352295,
          15.230706214904785,
          12.215797424316406,
          14.559097290039062,
          11.83186149597168,
          14.679624557495117,
          13.17671012878418,
          13.762746810913086,
          15.320218086242676,
          14.558465957641602,
          12.018824577331543,
          14.977961540222168,
          13.984142303466797,
          12.884435653686523,
          13.131664276123047,
          12.050617218017578,
          13.014759063720703,
          13.758889198303223,
          12.806888580322266,
          13.106583595275879,
          13.069971084594727,
          15.14976978302002,
          14.58702278137207,
          14.578274726867676,
          13.394131660461426,
          15.681325912475586,
          12.603321075439453,
          15.324808120727539,
          12.4473876953125,
          15.410673141479492,
          14.66176700592041,
          13.809036254882812,
          12.841155052185059,
          15.15824031829834,
          14.094131469726562,
          13.714571952819824,
          13.533931732177734,
          13.170294761657715,
          14.369093894958496,
          12.199409484863281,
          11.724401473999023,
          14.438615798950195,
          13.331158638000488,
          12.025138854980469,
          12.871977806091309,
          14.308655738830566,
          13.933049201965332,
          13.84902286529541,
          12.844873428344727,
          11.981651306152344,
          12.338021278381348,
          14.207539558410645,
          14.816919326782227,
          12.138830184936523,
          14.047966957092285,
          12.028393745422363,
          13.485121726989746,
          14.998371124267578,
          12.322367668151855,
          12.654623985290527,
          13.93721866607666,
          13.134899139404297,
          13.813237190246582,
          11.793906211853027,
          14.883785247802734,
          15.401548385620117,
          15.20322036743164,
          13.726883888244629,
          12.415559768676758,
          11.580141067504883,
          13.72326946258545,
          11.938891410827637,
          11.421341896057129,
          11.471376419067383,
          11.973552703857422,
          14.093669891357422,
          13.062074661254883,
          14.069382667541504,
          14.003339767456055,
          11.734023094177246
         ],
         "xaxis": "x",
         "y": [
          8.198362350463867,
          9.16862678527832,
          6.170806884765625,
          6.8210954666137695,
          9.363624572753906,
          9.80132007598877,
          6.852072715759277,
          8.93979549407959,
          6.38478422164917,
          5.752790927886963,
          8.263643264770508,
          6.823424339294434,
          8.771319389343262,
          8.995453834533691,
          5.771297931671143,
          8.807140350341797,
          9.487080574035645,
          8.242691993713379,
          7.352321624755859,
          5.773252964019775,
          8.761344909667969,
          9.11646556854248,
          9.544487953186035,
          7.3719482421875,
          6.2459187507629395,
          6.912712097167969,
          7.197260856628418,
          9.672429084777832,
          8.026086807250977,
          8.772554397583008,
          5.982135772705078,
          7.075242042541504,
          7.570131301879883,
          7.848145484924316,
          9.78770923614502,
          7.5811285972595215,
          8.335498809814453,
          10.214825630187988,
          8.733175277709961,
          9.302680969238281,
          8.958930969238281,
          8.692401885986328,
          6.256974220275879,
          7.516846179962158,
          5.559277534484863,
          7.553279876708984,
          7.9946088790893555,
          8.241631507873535,
          6.600188732147217,
          5.451044082641602,
          7.644485950469971,
          8.545655250549316,
          7.435855388641357,
          8.489567756652832,
          9.516880989074707,
          9.515714645385742,
          7.551844596862793,
          9.014041900634766,
          7.7412872314453125,
          5.446343421936035,
          6.1270527839660645,
          7.5584540367126465,
          7.181346416473389,
          8.012344360351562,
          9.732016563415527,
          5.949788570404053,
          7.1502180099487305,
          6.840874195098877,
          6.717213153839111,
          7.5268025398254395,
          6.75987434387207,
          5.941671371459961,
          10.139389991760254,
          8.295289039611816,
          8.197607040405273,
          7.474015235900879,
          5.50223970413208,
          6.203545093536377,
          9.201401710510254,
          5.56822395324707,
          6.2247114181518555,
          9.821075439453125,
          8.664183616638184,
          6.410660743713379,
          8.960522651672363,
          5.853781223297119,
          7.942073822021484,
          5.95177698135376,
          9.396299362182617,
          8.72805118560791,
          8.676679611206055,
          7.258274078369141,
          7.1419172286987305,
          9.900956153869629,
          5.793593883514404,
          5.7503533363342285,
          9.886645317077637,
          5.593585014343262,
          8.65024471282959,
          8.089738845825195,
          8.332405090332031,
          6.762648582458496,
          8.825879096984863,
          8.748286247253418,
          6.397953987121582,
          9.821378707885742,
          6.571220397949219,
          8.35092544555664,
          6.621169567108154,
          9.169910430908203,
          6.3453216552734375,
          8.523797988891602,
          8.589241981506348,
          6.455331325531006,
          6.727701663970947,
          8.10403060913086,
          5.503330707550049,
          6.365786552429199,
          9.584373474121094,
          6.140965461730957,
          10.186514854431152,
          5.988460540771484,
          8.953339576721191,
          8.02092456817627,
          9.006999969482422,
          6.669084072113037,
          6.6804280281066895,
          7.4617695808410645,
          7.77803897857666,
          9.393956184387207,
          6.533984184265137,
          8.13590145111084,
          8.395402908325195,
          9.253032684326172,
          9.749394416809082,
          10.386751174926758,
          5.39606237411499,
          9.193889617919922,
          8.681417465209961
         ],
         "yaxis": "y"
        }
       ],
       "layout": {
        "coloraxis": {
         "colorbar": {
          "title": {
           "text": "Etiqueta"
          }
         },
         "colorscale": [
          [
           0,
           "#440154"
          ],
          [
           0.1111111111111111,
           "#482878"
          ],
          [
           0.2222222222222222,
           "#3e4989"
          ],
          [
           0.3333333333333333,
           "#31688e"
          ],
          [
           0.4444444444444444,
           "#26828e"
          ],
          [
           0.5555555555555556,
           "#1f9e89"
          ],
          [
           0.6666666666666666,
           "#35b779"
          ],
          [
           0.7777777777777778,
           "#6ece58"
          ],
          [
           0.8888888888888888,
           "#b5de2b"
          ],
          [
           1,
           "#fde725"
          ]
         ]
        },
        "legend": {
         "tracegroupgap": 0
        },
        "template": {
         "data": {
          "bar": [
           {
            "error_x": {
             "color": "#2a3f5f"
            },
            "error_y": {
             "color": "#2a3f5f"
            },
            "marker": {
             "line": {
              "color": "#E5ECF6",
              "width": 0.5
             },
             "pattern": {
              "fillmode": "overlay",
              "size": 10,
              "solidity": 0.2
             }
            },
            "type": "bar"
           }
          ],
          "barpolar": [
           {
            "marker": {
             "line": {
              "color": "#E5ECF6",
              "width": 0.5
             },
             "pattern": {
              "fillmode": "overlay",
              "size": 10,
              "solidity": 0.2
             }
            },
            "type": "barpolar"
           }
          ],
          "carpet": [
           {
            "aaxis": {
             "endlinecolor": "#2a3f5f",
             "gridcolor": "white",
             "linecolor": "white",
             "minorgridcolor": "white",
             "startlinecolor": "#2a3f5f"
            },
            "baxis": {
             "endlinecolor": "#2a3f5f",
             "gridcolor": "white",
             "linecolor": "white",
             "minorgridcolor": "white",
             "startlinecolor": "#2a3f5f"
            },
            "type": "carpet"
           }
          ],
          "choropleth": [
           {
            "colorbar": {
             "outlinewidth": 0,
             "ticks": ""
            },
            "type": "choropleth"
           }
          ],
          "contour": [
           {
            "colorbar": {
             "outlinewidth": 0,
             "ticks": ""
            },
            "colorscale": [
             [
              0,
              "#0d0887"
             ],
             [
              0.1111111111111111,
              "#46039f"
             ],
             [
              0.2222222222222222,
              "#7201a8"
             ],
             [
              0.3333333333333333,
              "#9c179e"
             ],
             [
              0.4444444444444444,
              "#bd3786"
             ],
             [
              0.5555555555555556,
              "#d8576b"
             ],
             [
              0.6666666666666666,
              "#ed7953"
             ],
             [
              0.7777777777777778,
              "#fb9f3a"
             ],
             [
              0.8888888888888888,
              "#fdca26"
             ],
             [
              1,
              "#f0f921"
             ]
            ],
            "type": "contour"
           }
          ],
          "contourcarpet": [
           {
            "colorbar": {
             "outlinewidth": 0,
             "ticks": ""
            },
            "type": "contourcarpet"
           }
          ],
          "heatmap": [
           {
            "colorbar": {
             "outlinewidth": 0,
             "ticks": ""
            },
            "colorscale": [
             [
              0,
              "#0d0887"
             ],
             [
              0.1111111111111111,
              "#46039f"
             ],
             [
              0.2222222222222222,
              "#7201a8"
             ],
             [
              0.3333333333333333,
              "#9c179e"
             ],
             [
              0.4444444444444444,
              "#bd3786"
             ],
             [
              0.5555555555555556,
              "#d8576b"
             ],
             [
              0.6666666666666666,
              "#ed7953"
             ],
             [
              0.7777777777777778,
              "#fb9f3a"
             ],
             [
              0.8888888888888888,
              "#fdca26"
             ],
             [
              1,
              "#f0f921"
             ]
            ],
            "type": "heatmap"
           }
          ],
          "heatmapgl": [
           {
            "colorbar": {
             "outlinewidth": 0,
             "ticks": ""
            },
            "colorscale": [
             [
              0,
              "#0d0887"
             ],
             [
              0.1111111111111111,
              "#46039f"
             ],
             [
              0.2222222222222222,
              "#7201a8"
             ],
             [
              0.3333333333333333,
              "#9c179e"
             ],
             [
              0.4444444444444444,
              "#bd3786"
             ],
             [
              0.5555555555555556,
              "#d8576b"
             ],
             [
              0.6666666666666666,
              "#ed7953"
             ],
             [
              0.7777777777777778,
              "#fb9f3a"
             ],
             [
              0.8888888888888888,
              "#fdca26"
             ],
             [
              1,
              "#f0f921"
             ]
            ],
            "type": "heatmapgl"
           }
          ],
          "histogram": [
           {
            "marker": {
             "pattern": {
              "fillmode": "overlay",
              "size": 10,
              "solidity": 0.2
             }
            },
            "type": "histogram"
           }
          ],
          "histogram2d": [
           {
            "colorbar": {
             "outlinewidth": 0,
             "ticks": ""
            },
            "colorscale": [
             [
              0,
              "#0d0887"
             ],
             [
              0.1111111111111111,
              "#46039f"
             ],
             [
              0.2222222222222222,
              "#7201a8"
             ],
             [
              0.3333333333333333,
              "#9c179e"
             ],
             [
              0.4444444444444444,
              "#bd3786"
             ],
             [
              0.5555555555555556,
              "#d8576b"
             ],
             [
              0.6666666666666666,
              "#ed7953"
             ],
             [
              0.7777777777777778,
              "#fb9f3a"
             ],
             [
              0.8888888888888888,
              "#fdca26"
             ],
             [
              1,
              "#f0f921"
             ]
            ],
            "type": "histogram2d"
           }
          ],
          "histogram2dcontour": [
           {
            "colorbar": {
             "outlinewidth": 0,
             "ticks": ""
            },
            "colorscale": [
             [
              0,
              "#0d0887"
             ],
             [
              0.1111111111111111,
              "#46039f"
             ],
             [
              0.2222222222222222,
              "#7201a8"
             ],
             [
              0.3333333333333333,
              "#9c179e"
             ],
             [
              0.4444444444444444,
              "#bd3786"
             ],
             [
              0.5555555555555556,
              "#d8576b"
             ],
             [
              0.6666666666666666,
              "#ed7953"
             ],
             [
              0.7777777777777778,
              "#fb9f3a"
             ],
             [
              0.8888888888888888,
              "#fdca26"
             ],
             [
              1,
              "#f0f921"
             ]
            ],
            "type": "histogram2dcontour"
           }
          ],
          "mesh3d": [
           {
            "colorbar": {
             "outlinewidth": 0,
             "ticks": ""
            },
            "type": "mesh3d"
           }
          ],
          "parcoords": [
           {
            "line": {
             "colorbar": {
              "outlinewidth": 0,
              "ticks": ""
             }
            },
            "type": "parcoords"
           }
          ],
          "pie": [
           {
            "automargin": true,
            "type": "pie"
           }
          ],
          "scatter": [
           {
            "fillpattern": {
             "fillmode": "overlay",
             "size": 10,
             "solidity": 0.2
            },
            "type": "scatter"
           }
          ],
          "scatter3d": [
           {
            "line": {
             "colorbar": {
              "outlinewidth": 0,
              "ticks": ""
             }
            },
            "marker": {
             "colorbar": {
              "outlinewidth": 0,
              "ticks": ""
             }
            },
            "type": "scatter3d"
           }
          ],
          "scattercarpet": [
           {
            "marker": {
             "colorbar": {
              "outlinewidth": 0,
              "ticks": ""
             }
            },
            "type": "scattercarpet"
           }
          ],
          "scattergeo": [
           {
            "marker": {
             "colorbar": {
              "outlinewidth": 0,
              "ticks": ""
             }
            },
            "type": "scattergeo"
           }
          ],
          "scattergl": [
           {
            "marker": {
             "colorbar": {
              "outlinewidth": 0,
              "ticks": ""
             }
            },
            "type": "scattergl"
           }
          ],
          "scattermapbox": [
           {
            "marker": {
             "colorbar": {
              "outlinewidth": 0,
              "ticks": ""
             }
            },
            "type": "scattermapbox"
           }
          ],
          "scatterpolar": [
           {
            "marker": {
             "colorbar": {
              "outlinewidth": 0,
              "ticks": ""
             }
            },
            "type": "scatterpolar"
           }
          ],
          "scatterpolargl": [
           {
            "marker": {
             "colorbar": {
              "outlinewidth": 0,
              "ticks": ""
             }
            },
            "type": "scatterpolargl"
           }
          ],
          "scatterternary": [
           {
            "marker": {
             "colorbar": {
              "outlinewidth": 0,
              "ticks": ""
             }
            },
            "type": "scatterternary"
           }
          ],
          "surface": [
           {
            "colorbar": {
             "outlinewidth": 0,
             "ticks": ""
            },
            "colorscale": [
             [
              0,
              "#0d0887"
             ],
             [
              0.1111111111111111,
              "#46039f"
             ],
             [
              0.2222222222222222,
              "#7201a8"
             ],
             [
              0.3333333333333333,
              "#9c179e"
             ],
             [
              0.4444444444444444,
              "#bd3786"
             ],
             [
              0.5555555555555556,
              "#d8576b"
             ],
             [
              0.6666666666666666,
              "#ed7953"
             ],
             [
              0.7777777777777778,
              "#fb9f3a"
             ],
             [
              0.8888888888888888,
              "#fdca26"
             ],
             [
              1,
              "#f0f921"
             ]
            ],
            "type": "surface"
           }
          ],
          "table": [
           {
            "cells": {
             "fill": {
              "color": "#EBF0F8"
             },
             "line": {
              "color": "white"
             }
            },
            "header": {
             "fill": {
              "color": "#C8D4E3"
             },
             "line": {
              "color": "white"
             }
            },
            "type": "table"
           }
          ]
         },
         "layout": {
          "annotationdefaults": {
           "arrowcolor": "#2a3f5f",
           "arrowhead": 0,
           "arrowwidth": 1
          },
          "autotypenumbers": "strict",
          "coloraxis": {
           "colorbar": {
            "outlinewidth": 0,
            "ticks": ""
           }
          },
          "colorscale": {
           "diverging": [
            [
             0,
             "#8e0152"
            ],
            [
             0.1,
             "#c51b7d"
            ],
            [
             0.2,
             "#de77ae"
            ],
            [
             0.3,
             "#f1b6da"
            ],
            [
             0.4,
             "#fde0ef"
            ],
            [
             0.5,
             "#f7f7f7"
            ],
            [
             0.6,
             "#e6f5d0"
            ],
            [
             0.7,
             "#b8e186"
            ],
            [
             0.8,
             "#7fbc41"
            ],
            [
             0.9,
             "#4d9221"
            ],
            [
             1,
             "#276419"
            ]
           ],
           "sequential": [
            [
             0,
             "#0d0887"
            ],
            [
             0.1111111111111111,
             "#46039f"
            ],
            [
             0.2222222222222222,
             "#7201a8"
            ],
            [
             0.3333333333333333,
             "#9c179e"
            ],
            [
             0.4444444444444444,
             "#bd3786"
            ],
            [
             0.5555555555555556,
             "#d8576b"
            ],
            [
             0.6666666666666666,
             "#ed7953"
            ],
            [
             0.7777777777777778,
             "#fb9f3a"
            ],
            [
             0.8888888888888888,
             "#fdca26"
            ],
            [
             1,
             "#f0f921"
            ]
           ],
           "sequentialminus": [
            [
             0,
             "#0d0887"
            ],
            [
             0.1111111111111111,
             "#46039f"
            ],
            [
             0.2222222222222222,
             "#7201a8"
            ],
            [
             0.3333333333333333,
             "#9c179e"
            ],
            [
             0.4444444444444444,
             "#bd3786"
            ],
            [
             0.5555555555555556,
             "#d8576b"
            ],
            [
             0.6666666666666666,
             "#ed7953"
            ],
            [
             0.7777777777777778,
             "#fb9f3a"
            ],
            [
             0.8888888888888888,
             "#fdca26"
            ],
            [
             1,
             "#f0f921"
            ]
           ]
          },
          "colorway": [
           "#636efa",
           "#EF553B",
           "#00cc96",
           "#ab63fa",
           "#FFA15A",
           "#19d3f3",
           "#FF6692",
           "#B6E880",
           "#FF97FF",
           "#FECB52"
          ],
          "font": {
           "color": "#2a3f5f"
          },
          "geo": {
           "bgcolor": "white",
           "lakecolor": "white",
           "landcolor": "#E5ECF6",
           "showlakes": true,
           "showland": true,
           "subunitcolor": "white"
          },
          "hoverlabel": {
           "align": "left"
          },
          "hovermode": "closest",
          "mapbox": {
           "style": "light"
          },
          "paper_bgcolor": "white",
          "plot_bgcolor": "#E5ECF6",
          "polar": {
           "angularaxis": {
            "gridcolor": "white",
            "linecolor": "white",
            "ticks": ""
           },
           "bgcolor": "#E5ECF6",
           "radialaxis": {
            "gridcolor": "white",
            "linecolor": "white",
            "ticks": ""
           }
          },
          "scene": {
           "xaxis": {
            "backgroundcolor": "#E5ECF6",
            "gridcolor": "white",
            "gridwidth": 2,
            "linecolor": "white",
            "showbackground": true,
            "ticks": "",
            "zerolinecolor": "white"
           },
           "yaxis": {
            "backgroundcolor": "#E5ECF6",
            "gridcolor": "white",
            "gridwidth": 2,
            "linecolor": "white",
            "showbackground": true,
            "ticks": "",
            "zerolinecolor": "white"
           },
           "zaxis": {
            "backgroundcolor": "#E5ECF6",
            "gridcolor": "white",
            "gridwidth": 2,
            "linecolor": "white",
            "showbackground": true,
            "ticks": "",
            "zerolinecolor": "white"
           }
          },
          "shapedefaults": {
           "line": {
            "color": "#2a3f5f"
           }
          },
          "ternary": {
           "aaxis": {
            "gridcolor": "white",
            "linecolor": "white",
            "ticks": ""
           },
           "baxis": {
            "gridcolor": "white",
            "linecolor": "white",
            "ticks": ""
           },
           "bgcolor": "#E5ECF6",
           "caxis": {
            "gridcolor": "white",
            "linecolor": "white",
            "ticks": ""
           }
          },
          "title": {
           "x": 0.05
          },
          "xaxis": {
           "automargin": true,
           "gridcolor": "white",
           "linecolor": "white",
           "ticks": "",
           "title": {
            "standoff": 15
           },
           "zerolinecolor": "white",
           "zerolinewidth": 2
          },
          "yaxis": {
           "automargin": true,
           "gridcolor": "white",
           "linecolor": "white",
           "ticks": "",
           "title": {
            "standoff": 15
           },
           "zerolinecolor": "white",
           "zerolinewidth": 2
          }
         }
        },
        "title": {
         "text": "Visualización 2D de Textos con UMAP"
        },
        "xaxis": {
         "anchor": "y",
         "domain": [
          0,
          1
         ],
         "title": {
          "text": "x"
         }
        },
        "yaxis": {
         "anchor": "x",
         "domain": [
          0,
          1
         ],
         "title": {
          "text": "y"
         }
        }
       }
      }
     },
     "metadata": {},
     "output_type": "display_data"
    }
   ],
   "source": [
    "umap_model = umap.UMAP(n_components=2, random_state=42)\n",
    "embeddings_3d = umap_model.fit_transform(embeddings)\n",
    "\n",
    "\n",
    "# Crear un DataFrame para las coordenadas 3D y las etiquetas\n",
    "df_3d = pd.DataFrame(embeddings_3d, columns=['x', 'y'])\n",
    "df_3d['label'] = df['label']\n",
    "\n",
    "# Visualización en 3D con Plotly\n",
    "fig = px.scatter(df_3d, x='x', y='y', color='label',\n",
    "                    title='Visualización 2D de Textos con UMAP',\n",
    "                    labels={'label': 'Etiqueta'},\n",
    "                    color_continuous_scale=px.colors.sequential.Viridis)\n",
    "\n",
    "fig.show()\n"
   ]
  }
 ],
 "metadata": {
  "kernelspec": {
   "display_name": ".venv",
   "language": "python",
   "name": "python3"
  },
  "language_info": {
   "codemirror_mode": {
    "name": "ipython",
    "version": 3
   },
   "file_extension": ".py",
   "mimetype": "text/x-python",
   "name": "python",
   "nbconvert_exporter": "python",
   "pygments_lexer": "ipython3",
   "version": "3.11.9"
  }
 },
 "nbformat": 4,
 "nbformat_minor": 2
}
