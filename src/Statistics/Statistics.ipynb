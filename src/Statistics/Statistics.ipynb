{
 "cells": [
  {
   "cell_type": "markdown",
   "metadata": {},
   "source": [
    "# Display some statistics\n"
   ]
  },
  {
   "cell_type": "code",
   "execution_count": 2,
   "metadata": {},
   "outputs": [
    {
     "name": "stdout",
     "output_type": "stream",
     "text": [
      "--- Estadisticas para: Fast Check\n",
      "--- --- Primer Proceso Constitucional\n",
      "--- --- --- Total de Paginas:  20\n",
      "--- --- --- Paginas con Imagenes:  0\n",
      "--- --- --- Porcentaje de Paginas con Imagenes:  0.0 %\n",
      "\n",
      "--- --- Segundo Proceso Constitucional\n",
      "--- --- --- Total de Paginas:  22\n",
      "--- --- --- Paginas con Imagenes:  0\n",
      "--- --- --- Porcentaje de Paginas con Imagenes:  0.0 %\n",
      "\n",
      "--- Estadisticas para: Fast Checking UC\n",
      "--- --- Total de Paginas:  139\n",
      "--- --- Paginas con Imagenes:  114\n",
      "--- --- Porcentaje de Paginas con Imagenes:  82.01438848920863 %\n"
     ]
    }
   ],
   "source": [
    "import json\n",
    "\n",
    "# Fact Check Statistics\n",
    "fact_check_json_1_path = \"../fast_check_data/1st_fast_check_pages.json\"\n",
    "fact_check_json_2_path = \"../fast_check_data/2nd_fast_check_pages.json\"\n",
    "\n",
    "fact_check_json_1_data = []\n",
    "fact_check_json_2_data = []\n",
    "\n",
    "with open(fact_check_json_1_path, 'r', encoding='utf-8') as file:\n",
    "    fact_check_json_1_data = json.load(file)[\"pages\"]\n",
    "\n",
    "with open(fact_check_json_2_path, 'r', encoding='utf-8') as file:\n",
    "    fact_check_json_2_data = json.load(file)[\"pages\"]\n",
    "\n",
    "json_1_pages_with_images = 0\n",
    "json_2_pages_with_images = 0\n",
    "\n",
    "for page in fact_check_json_1_data:\n",
    "    if len(page[\"images\"]) > 0:\n",
    "        json_1_pages_with_images += 1\n",
    "\n",
    "for page in fact_check_json_2_data:\n",
    "    if len(page[\"images\"]) > 0:\n",
    "        json_2_pages_with_images += 1\n",
    "\n",
    "print(\"--- Estadisticas para: Fast Check\")\n",
    "print(\"--- --- Primer Proceso Constitucional\")\n",
    "print(\"--- --- --- Total de Paginas: \", len(fact_check_json_1_data))\n",
    "print(\"--- --- --- Paginas con Imagenes: \", json_1_pages_with_images)\n",
    "print(\"--- --- --- Porcentaje de Paginas con Imagenes: \", json_1_pages_with_images / len(fact_check_json_1_data) * 100, \"%\")\n",
    "print()\n",
    "print(\"--- --- Segundo Proceso Constitucional\")\n",
    "print(\"--- --- --- Total de Paginas: \", len(fact_check_json_2_data))\n",
    "print(\"--- --- --- Paginas con Imagenes: \", json_2_pages_with_images)\n",
    "print(\"--- --- --- Porcentaje de Paginas con Imagenes: \", json_2_pages_with_images / len(fact_check_json_2_data) * 100, \"%\")\n",
    "\n",
    "# Fast Checking UC Statistics\n",
    "fast_checking_path = \"../fact_checking_data/fact_checking_data_extracted.json\"\n",
    "fast_checking_data = []\n",
    "fast_checking_pages_with_images = 0\n",
    "\n",
    "with open(fast_checking_path, 'r', encoding='utf-8') as file:\n",
    "    fast_checking_data = json.load(file)[\"facts\"]\n",
    "\n",
    "for page in fast_checking_data:\n",
    "    if len(page[\"images\"]) > 0:\n",
    "        fast_checking_pages_with_images += 1\n",
    "\n",
    "print()\n",
    "print(\"--- Estadisticas para: Fast Checking UC\")\n",
    "print(\"--- --- Total de Paginas: \", len(fast_checking_data))\n",
    "print(\"--- --- Paginas con Imagenes: \", fast_checking_pages_with_images)\n",
    "print(\"--- --- Porcentaje de Paginas con Imagenes: \", fast_checking_pages_with_images / len(fast_checking_data) * 100, \"%\")"
   ]
  }
 ],
 "metadata": {
  "kernelspec": {
   "display_name": "Python 3",
   "language": "python",
   "name": "python3"
  },
  "language_info": {
   "codemirror_mode": {
    "name": "ipython",
    "version": 3
   },
   "file_extension": ".py",
   "mimetype": "text/x-python",
   "name": "python",
   "nbconvert_exporter": "python",
   "pygments_lexer": "ipython3",
   "version": "3.11.9"
  }
 },
 "nbformat": 4,
 "nbformat_minor": 2
}
